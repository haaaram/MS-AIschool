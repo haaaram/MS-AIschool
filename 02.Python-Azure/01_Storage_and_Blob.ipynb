{
  "nbformat": 4,
  "nbformat_minor": 0,
  "metadata": {
    "colab": {
      "provenance": [],
      "authorship_tag": "ABX9TyOGfPOQxJPBtY2U7Y8y1fDw",
      "include_colab_link": true
    },
    "kernelspec": {
      "name": "python3",
      "display_name": "Python 3"
    },
    "language_info": {
      "name": "python"
    }
  },
  "cells": [
    {
      "cell_type": "markdown",
      "metadata": {
        "id": "view-in-github",
        "colab_type": "text"
      },
      "source": [
        "<a href=\"https://colab.research.google.com/github/haaaram/MS-AIschool/blob/main/02.Python-Azure/01_Storage_and_Blob.ipynb\" target=\"_parent\"><img src=\"https://colab.research.google.com/assets/colab-badge.svg\" alt=\"Open In Colab\"/></a>"
      ]
    },
    {
      "cell_type": "markdown",
      "source": [
        "## Python에서 Azure Storage 만들기"
      ],
      "metadata": {
        "id": "qnApki1GXIrl"
      }
    },
    {
      "cell_type": "code",
      "execution_count": null,
      "metadata": {
        "colab": {
          "base_uri": "https://localhost:8080/"
        },
        "id": "rSKthCOylPuY",
        "outputId": "1f9dfa4e-e3a6-498d-fe2c-ce0a9c1e2aba"
      },
      "outputs": [
        {
          "output_type": "stream",
          "name": "stdout",
          "text": [
            "Looking in indexes: https://pypi.org/simple, https://us-python.pkg.dev/colab-wheels/public/simple/\n",
            "Requirement already satisfied: azure-storage-blob in /usr/local/lib/python3.9/dist-packages (12.16.0)\n",
            "Requirement already satisfied: azure-identity in /usr/local/lib/python3.9/dist-packages (1.12.0)\n",
            "Requirement already satisfied: typing-extensions>=4.0.1 in /usr/local/lib/python3.9/dist-packages (from azure-storage-blob) (4.5.0)\n",
            "Requirement already satisfied: azure-core<2.0.0,>=1.26.0 in /usr/local/lib/python3.9/dist-packages (from azure-storage-blob) (1.26.4)\n",
            "Requirement already satisfied: isodate>=0.6.1 in /usr/local/lib/python3.9/dist-packages (from azure-storage-blob) (0.6.1)\n",
            "Requirement already satisfied: cryptography>=2.1.4 in /usr/local/lib/python3.9/dist-packages (from azure-storage-blob) (40.0.2)\n",
            "Requirement already satisfied: six>=1.12.0 in /usr/local/lib/python3.9/dist-packages (from azure-identity) (1.16.0)\n",
            "Requirement already satisfied: msal-extensions<2.0.0,>=0.3.0 in /usr/local/lib/python3.9/dist-packages (from azure-identity) (1.0.0)\n",
            "Requirement already satisfied: msal<2.0.0,>=1.12.0 in /usr/local/lib/python3.9/dist-packages (from azure-identity) (1.22.0)\n",
            "Requirement already satisfied: requests>=2.18.4 in /usr/local/lib/python3.9/dist-packages (from azure-core<2.0.0,>=1.26.0->azure-storage-blob) (2.27.1)\n",
            "Requirement already satisfied: cffi>=1.12 in /usr/local/lib/python3.9/dist-packages (from cryptography>=2.1.4->azure-storage-blob) (1.15.1)\n",
            "Requirement already satisfied: PyJWT[crypto]<3,>=1.0.0 in /usr/local/lib/python3.9/dist-packages (from msal<2.0.0,>=1.12.0->azure-identity) (2.6.0)\n",
            "Requirement already satisfied: portalocker<3,>=1.0 in /usr/local/lib/python3.9/dist-packages (from msal-extensions<2.0.0,>=0.3.0->azure-identity) (2.7.0)\n",
            "Requirement already satisfied: pycparser in /usr/local/lib/python3.9/dist-packages (from cffi>=1.12->cryptography>=2.1.4->azure-storage-blob) (2.21)\n",
            "Requirement already satisfied: charset-normalizer~=2.0.0 in /usr/local/lib/python3.9/dist-packages (from requests>=2.18.4->azure-core<2.0.0,>=1.26.0->azure-storage-blob) (2.0.12)\n",
            "Requirement already satisfied: idna<4,>=2.5 in /usr/local/lib/python3.9/dist-packages (from requests>=2.18.4->azure-core<2.0.0,>=1.26.0->azure-storage-blob) (3.4)\n",
            "Requirement already satisfied: urllib3<1.27,>=1.21.1 in /usr/local/lib/python3.9/dist-packages (from requests>=2.18.4->azure-core<2.0.0,>=1.26.0->azure-storage-blob) (1.26.15)\n",
            "Requirement already satisfied: certifi>=2017.4.17 in /usr/local/lib/python3.9/dist-packages (from requests>=2.18.4->azure-core<2.0.0,>=1.26.0->azure-storage-blob) (2022.12.7)\n"
          ]
        }
      ],
      "source": [
        "# Azure Storage blob 패키지 설치\n",
        "!pip install azure-storage-blob azure-identity"
      ]
    },
    {
      "cell_type": "code",
      "source": [
        "import os, uuid\n",
        "from azure.identity import DefaultAzureCredential\n",
        "from azure.storage.blob import BlobServiceClient, BlobClient, ContainerClient"
      ],
      "metadata": {
        "id": "YCwHqPUCl1uY"
      },
      "execution_count": null,
      "outputs": []
    },
    {
      "cell_type": "code",
      "source": [
        "# Blob Services에 접속\n",
        "# 액세스 키는 애져 스토리지 참고\n",
        "connect_str = 'DefaultEndpointsProtocol=https;AccountName=labuser13storage2;AccountKey=98aPLg2qDx4XM+1FEekeCMmoJ0tzXkTL5k8otaH+D1fGMmPFr3IVqs62ZcrgUXF8HBa6nxUFO4um+AStgxhhtw==;EndpointSuffix=core.windows.net'\n",
        "blob_service_client = BlobServiceClient.from_connection_string(connect_str)"
      ],
      "metadata": {
        "id": "dVU9vP8Ym5CJ"
      },
      "execution_count": null,
      "outputs": []
    },
    {
      "cell_type": "code",
      "source": [
        "# 스토리지 내 컨테이너 만들기\n",
        "container_name = 'test2container'\n",
        "\n",
        "container_client = blob_service_client.create_container(container_name)"
      ],
      "metadata": {
        "id": "jSfZ43PhoYrg"
      },
      "execution_count": null,
      "outputs": []
    },
    {
      "cell_type": "code",
      "source": [
        "# Create a local directory to hold blob data\n",
        "local_path = './data'\n",
        "os.mkdir(local_path)\n",
        "\n",
        "# Create a file in the local data directory to upload and download\n",
        "local_file_name = 'welcome' + '.txt'\n",
        "upload_file_path = os.path.join(local_path, local_file_name)\n",
        "\n",
        "# Write text to the file\n",
        "file = open(upload_file_path, mode='w')\n",
        "file.write('Welcome to Python')\n",
        "file.close()"
      ],
      "metadata": {
        "id": "zld7ms_hpGkR"
      },
      "execution_count": null,
      "outputs": []
    },
    {
      "cell_type": "code",
      "source": [
        "blob_client = blob_service_client.get_blob_client(container=container_name, blob=local_file_name)\n",
        "\n",
        "with open(file=upload_file_path, mode='rb') as data:\n",
        "  blob_client.upload_blob(data)"
      ],
      "metadata": {
        "id": "G_CrMilgsdt0"
      },
      "execution_count": null,
      "outputs": []
    },
    {
      "cell_type": "code",
      "source": [
        "# blob 파일의 리스트를 확인한다.\n",
        "print('\\nListing blobs')\n",
        "\n",
        "blob_list = container_client.list_blobs()\n",
        "for blob in blob_list:\n",
        "  print('\\t' + blob.name)"
      ],
      "metadata": {
        "id": "uBeZBQ6qt4X5",
        "colab": {
          "base_uri": "https://localhost:8080/"
        },
        "outputId": "bc600049-fdf5-42ef-d505-47cd26e54ebb"
      },
      "execution_count": null,
      "outputs": [
        {
          "output_type": "stream",
          "name": "stdout",
          "text": [
            "\n",
            "Listing blobs\n",
            "\twelcome.txt\n"
          ]
        }
      ]
    },
    {
      "cell_type": "code",
      "source": [
        "# Download the blob to a local file\n",
        "# Add 'DOWNLOAD befor the .txt extendsion so you can see both files in the data dirctory\n",
        "\n",
        "download_file_path = os.path.join(local_path,\n",
        "                                  str.replace(local_file_name, '.txt', '_DOWNLOAD.txt'))\n",
        "print(download_file_path)\n",
        "container_client = blob_service_client.get_container_client(container=container_name)\n",
        "\n",
        "with open(file=download_file_path, mode='wb') as download_file:\n",
        "  download_file.write(container_client.download_blob(blob.name).readall())"
      ],
      "metadata": {
        "colab": {
          "base_uri": "https://localhost:8080/"
        },
        "id": "jbzhqOW2Peth",
        "outputId": "2826f4a1-4518-4827-f943-f8422fd84c91"
      },
      "execution_count": null,
      "outputs": [
        {
          "output_type": "stream",
          "name": "stdout",
          "text": [
            "./data/welcome_DOWNLOAD.txt\n"
          ]
        }
      ]
    },
    {
      "cell_type": "code",
      "source": [
        "# Clean up\n",
        "print('\\nPress the Enter Key to begin clean up')\n",
        "input()\n",
        "\n",
        "print('Deleting blob container...')\n",
        "container_client.delete_container()\n",
        "\n",
        "print('Deleting the local source and download file...')\n",
        "os.remove(upload_file_path)\n",
        "os.remove(download_file_path)\n",
        "os.rmdir(local_path)\n",
        "\n",
        "print(\"Done\")"
      ],
      "metadata": {
        "colab": {
          "base_uri": "https://localhost:8080/"
        },
        "id": "v3mfV2zKSLrp",
        "outputId": "c4aae949-b8af-4155-b92f-55d6d3a9894b"
      },
      "execution_count": null,
      "outputs": [
        {
          "output_type": "stream",
          "name": "stdout",
          "text": [
            "\n",
            "Press the Enter Key to begin clean up\n",
            "\n",
            "Deleting blob container...\n",
            "Deleting the local source and download file...\n",
            "Done\n"
          ]
        }
      ]
    },
    {
      "cell_type": "code",
      "source": [],
      "metadata": {
        "id": "gFx_zJWXV1cn"
      },
      "execution_count": null,
      "outputs": []
    }
  ]
}