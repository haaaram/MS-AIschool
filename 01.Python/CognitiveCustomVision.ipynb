{
  "nbformat": 4,
  "nbformat_minor": 0,
  "metadata": {
    "colab": {
      "provenance": [],
      "authorship_tag": "ABX9TyM+oTBai0WHOziKfoqZcGOa",
      "include_colab_link": true
    },
    "kernelspec": {
      "name": "python3",
      "display_name": "Python 3"
    },
    "language_info": {
      "name": "python"
    }
  },
  "cells": [
    {
      "cell_type": "markdown",
      "metadata": {
        "id": "view-in-github",
        "colab_type": "text"
      },
      "source": [
        "<a href=\"https://colab.research.google.com/github/haaaram/MS-AIschool/blob/main/01.Python/CognitiveCustomVision.ipynb\" target=\"_parent\"><img src=\"https://colab.research.google.com/assets/colab-badge.svg\" alt=\"Open In Colab\"/></a>"
      ]
    },
    {
      "cell_type": "code",
      "execution_count": null,
      "metadata": {
        "id": "r-Cg6Y-AYwes"
      },
      "outputs": [],
      "source": [
        "pip install azure-cognitiveservices-vision-customvision"
      ]
    },
    {
      "cell_type": "code",
      "source": [
        "from azure.cognitiveservices.vision.customvision.training import CustomVisionTrainingClient\n",
        "from azure.cognitiveservices.vision.customvision.training.models import ImageFileCreateEntry\n",
        "from msrest.authentication import ApiKeyCredentials"
      ],
      "metadata": {
        "id": "P09zih7yZXdu"
      },
      "execution_count": null,
      "outputs": []
    },
    {
      "cell_type": "code",
      "source": [
        "endpoint = 'https://labuser13custom.cognitiveservices.azure.com/'\n",
        "training_key = '4c0666c9c83e409cbbd8b5017e8a367e'"
      ],
      "metadata": {
        "id": "mftYUkt_bDFz"
      },
      "execution_count": null,
      "outputs": []
    },
    {
      "cell_type": "code",
      "source": [
        "publish_iteration_name = 'GreatWallModel_13'\n",
        "credentials = ApiKeyCredentials(in_headers={'Training-key' : training_key})"
      ],
      "metadata": {
        "id": "S2BvC3gWcXpz"
      },
      "execution_count": null,
      "outputs": []
    },
    {
      "cell_type": "code",
      "source": [
        "trainer = CustomVisionTrainingClient(endpoint, credentials)"
      ],
      "metadata": {
        "id": "HZZzeM_KdMtE"
      },
      "execution_count": null,
      "outputs": []
    },
    {
      "cell_type": "code",
      "source": [
        "#Create a new project\n",
        "print('Creating project....')\n",
        "project_name = 'GreatWall_13'\n",
        "project = trainer.create_project(project_name)"
      ],
      "metadata": {
        "colab": {
          "base_uri": "https://localhost:8080/"
        },
        "id": "3Z7t6FmufCFo",
        "outputId": "b8c155a1-a436-46d5-b03f-d0e83e1dbc18"
      },
      "execution_count": null,
      "outputs": [
        {
          "output_type": "stream",
          "name": "stdout",
          "text": [
            "Creating project....\n"
          ]
        }
      ]
    },
    {
      "cell_type": "code",
      "source": [
        "jajangmyeon_tag = trainer.create_tag(project.id, 'jajangmyeon')\n",
        "jjamppong_tag = trainer.create_tag(project.id, 'jjamppong')\n",
        "tangsuyug_tag = trainer.create_tag(project.id, 'tangsuyug')"
      ],
      "metadata": {
        "id": "bNSuVSk4gNa9"
      },
      "execution_count": null,
      "outputs": []
    },
    {
      "cell_type": "code",
      "source": [
        "# 학습의 시작\n",
        "import time\n",
        "\n",
        "print('Training......')\n",
        "iteration = trainer.train_project(project.id)\n",
        "while (iteration.status != 'Completed'):\n",
        "  iteration = trainer.get_iteration(project.id, iteration.id)\n",
        "  print('Training status: ' + iteration.status)\n",
        "  print('Waiting 10 second...')\n",
        "  time.sleep(10)"
      ],
      "metadata": {
        "colab": {
          "base_uri": "https://localhost:8080/"
        },
        "id": "vYXOs8n8kymA",
        "outputId": "780cb2ca-b0c3-462f-c719-8780e1c944b2"
      },
      "execution_count": null,
      "outputs": [
        {
          "output_type": "stream",
          "name": "stdout",
          "text": [
            "Training......\n",
            "Training status: Training\n",
            "Waiting 10 second...\n",
            "Training status: Training\n",
            "Waiting 10 second...\n",
            "Training status: Training\n",
            "Waiting 10 second...\n",
            "Training status: Training\n",
            "Waiting 10 second...\n",
            "Training status: Training\n",
            "Waiting 10 second...\n",
            "Training status: Training\n",
            "Waiting 10 second...\n",
            "Training status: Training\n",
            "Waiting 10 second...\n",
            "Training status: Training\n",
            "Waiting 10 second...\n",
            "Training status: Training\n",
            "Waiting 10 second...\n",
            "Training status: Training\n",
            "Waiting 10 second...\n",
            "Training status: Training\n",
            "Waiting 10 second...\n",
            "Training status: Training\n",
            "Waiting 10 second...\n",
            "Training status: Training\n",
            "Waiting 10 second...\n",
            "Training status: Training\n",
            "Waiting 10 second...\n",
            "Training status: Training\n",
            "Waiting 10 second...\n",
            "Training status: Training\n",
            "Waiting 10 second...\n",
            "Training status: Training\n",
            "Waiting 10 second...\n",
            "Training status: Training\n",
            "Waiting 10 second...\n",
            "Training status: Training\n",
            "Waiting 10 second...\n",
            "Training status: Training\n",
            "Waiting 10 second...\n",
            "Training status: Training\n",
            "Waiting 10 second...\n",
            "Training status: Training\n",
            "Waiting 10 second...\n",
            "Training status: Training\n",
            "Waiting 10 second...\n",
            "Training status: Training\n",
            "Waiting 10 second...\n",
            "Training status: Training\n",
            "Waiting 10 second...\n",
            "Training status: Training\n",
            "Waiting 10 second...\n",
            "Training status: Training\n",
            "Waiting 10 second...\n",
            "Training status: Training\n",
            "Waiting 10 second...\n",
            "Training status: Training\n",
            "Waiting 10 second...\n",
            "Training status: Training\n",
            "Waiting 10 second...\n",
            "Training status: Training\n",
            "Waiting 10 second...\n",
            "Training status: Training\n",
            "Waiting 10 second...\n",
            "Training status: Training\n",
            "Waiting 10 second...\n",
            "Training status: Training\n",
            "Waiting 10 second...\n",
            "Training status: Training\n",
            "Waiting 10 second...\n",
            "Training status: Training\n",
            "Waiting 10 second...\n",
            "Training status: Training\n",
            "Waiting 10 second...\n",
            "Training status: Training\n",
            "Waiting 10 second...\n",
            "Training status: Training\n",
            "Waiting 10 second...\n",
            "Training status: Training\n",
            "Waiting 10 second...\n",
            "Training status: Training\n",
            "Waiting 10 second...\n",
            "Training status: Training\n",
            "Waiting 10 second...\n",
            "Training status: Training\n",
            "Waiting 10 second...\n",
            "Training status: Training\n",
            "Waiting 10 second...\n",
            "Training status: Training\n",
            "Waiting 10 second...\n",
            "Training status: Training\n",
            "Waiting 10 second...\n",
            "Training status: Training\n",
            "Waiting 10 second...\n",
            "Training status: Training\n",
            "Waiting 10 second...\n",
            "Training status: Training\n",
            "Waiting 10 second...\n",
            "Training status: Training\n",
            "Waiting 10 second...\n",
            "Training status: Training\n",
            "Waiting 10 second...\n",
            "Training status: Training\n",
            "Waiting 10 second...\n",
            "Training status: Training\n",
            "Waiting 10 second...\n",
            "Training status: Training\n",
            "Waiting 10 second...\n",
            "Training status: Training\n",
            "Waiting 10 second...\n",
            "Training status: Training\n",
            "Waiting 10 second...\n",
            "Training status: Training\n",
            "Waiting 10 second...\n",
            "Training status: Training\n",
            "Waiting 10 second...\n",
            "Training status: Training\n",
            "Waiting 10 second...\n",
            "Training status: Training\n",
            "Waiting 10 second...\n",
            "Training status: Completed\n",
            "Waiting 10 second...\n"
          ]
        }
      ]
    },
    {
      "cell_type": "code",
      "source": [
        "# 예측, 추론하는 부분\n",
        "from azure.cognitiveservices.vision.customvision.prediction import CustomVisionPredictionClient"
      ],
      "metadata": {
        "id": "ZRxP8WCmpHU0"
      },
      "execution_count": null,
      "outputs": []
    },
    {
      "cell_type": "code",
      "source": [
        "prediction_key = '7570e8e6add04d96be40138b622496db'\n",
        "prediction_endpoint = 'https://labuser13custom-prediction.cognitiveservices.azure.com/'\n",
        "\n",
        "prediction_credential = ApiKeyCredentials(in_headers={'Prediction-key' : prediction_key})"
      ],
      "metadata": {
        "id": "w7h1tYAh1U7J"
      },
      "execution_count": null,
      "outputs": []
    },
    {
      "cell_type": "code",
      "source": [
        "# 예측 리소스의 생성\n",
        "predictor = CustomVisionPredictionClient(prediction_endpoint,\n",
        "                                         prediction_credential)"
      ],
      "metadata": {
        "id": "QqQS5StV22Dr"
      },
      "execution_count": null,
      "outputs": []
    },
    {
      "cell_type": "code",
      "source": [
        "target_image_url = 'https://cooksomssi.co.kr/web/product/big/202207/aa3bd6db11d407657ac795fdf9c003b3.jpg'\n",
        "result = predictor.classify_image_url(project.id,\n",
        "                             'Iteration13',\n",
        "                             target_image_url)"
      ],
      "metadata": {
        "id": "FsCWcBWA3g6K"
      },
      "execution_count": null,
      "outputs": []
    },
    {
      "cell_type": "code",
      "source": [
        "for prediction in result.predictions:\n",
        "  print('\\t' + prediction.tag_name +\n",
        "        ': {0:.2f}%'.format(prediction.probability * 100))"
      ],
      "metadata": {
        "colab": {
          "base_uri": "https://localhost:8080/"
        },
        "id": "EQrM0M7C4g-R",
        "outputId": "02ecc142-c399-448d-ca06-8dcb330eb23c"
      },
      "execution_count": null,
      "outputs": [
        {
          "output_type": "stream",
          "name": "stdout",
          "text": [
            "\tjjamppong: 98.19%\n",
            "\tjajangmyeon: 0.75%\n",
            "\ttangsuyug: 0.25%\n"
          ]
        }
      ]
    },
    {
      "cell_type": "code",
      "source": [],
      "metadata": {
        "id": "yWvuFOzS8Nke"
      },
      "execution_count": null,
      "outputs": []
    }
  ]
}