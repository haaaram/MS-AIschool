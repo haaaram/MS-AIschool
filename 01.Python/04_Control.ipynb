{
  "nbformat": 4,
  "nbformat_minor": 0,
  "metadata": {
    "colab": {
      "provenance": [],
      "authorship_tag": "ABX9TyMbhtkq0fylGWqFfuYkjZoY",
      "include_colab_link": true
    },
    "kernelspec": {
      "name": "python3",
      "display_name": "Python 3"
    },
    "language_info": {
      "name": "python"
    }
  },
  "cells": [
    {
      "cell_type": "markdown",
      "metadata": {
        "id": "view-in-github",
        "colab_type": "text"
      },
      "source": [
        "<a href=\"https://colab.research.google.com/github/haaaram/MS-AIschool/blob/main/01.Python/04_Control.ipynb\" target=\"_parent\"><img src=\"https://colab.research.google.com/assets/colab-badge.svg\" alt=\"Open In Colab\"/></a>"
      ]
    },
    {
      "cell_type": "code",
      "execution_count": null,
      "metadata": {
        "colab": {
          "base_uri": "https://localhost:8080/"
        },
        "id": "OICFtzMYj_WG",
        "outputId": "04ee2fea-1874-4c80-e72d-f1889094ea36"
      },
      "outputs": [
        {
          "output_type": "stream",
          "name": "stdout",
          "text": [
            "value is bigger than 5\n"
          ]
        }
      ],
      "source": [
        "# 조건에 따라서 다른 결과를 얻기 위해서 사용하는 것\n",
        "\n",
        "value = 10\n",
        "if value > 5:\n",
        "  print('value is bigger than 5')"
      ]
    },
    {
      "cell_type": "code",
      "source": [
        "money = 10\n",
        "if money > 100:\n",
        "  item = 'apple'\n",
        "else:\n",
        "  item = 'banana'\n",
        "\n",
        "print(item)"
      ],
      "metadata": {
        "colab": {
          "base_uri": "https://localhost:8080/"
        },
        "id": "lA9jeAbvkgXp",
        "outputId": "2f2803f3-21bb-41dd-d3c9-a8f44129cac1"
      },
      "execution_count": null,
      "outputs": [
        {
          "output_type": "stream",
          "name": "stdout",
          "text": [
            "banana\n"
          ]
        }
      ]
    },
    {
      "cell_type": "code",
      "source": [
        "# 성적 처리\n",
        "\n",
        "score = int(input('input your score:'))\n",
        "\n",
        "if 90 <= score <= 100:\n",
        "  grade = 'A'\n",
        "elif 80 <= score < 90:\n",
        "  grade = 'B'\n",
        "elif 70 <= score < 80:\n",
        "  grade = 'C'\n",
        "elif 60 <= score < 70:\n",
        "  grade = 'D'\n",
        "else:\n",
        "  grade = 'F'\n",
        "\n",
        "print('Your score is ' + str(score))\n",
        "print('Your grade is ' + grade)"
      ],
      "metadata": {
        "colab": {
          "base_uri": "https://localhost:8080/"
        },
        "id": "2Q67ChCrkwCq",
        "outputId": "d4c6af55-684d-468a-d05c-f0f0c7f0855c"
      },
      "execution_count": null,
      "outputs": [
        {
          "output_type": "stream",
          "name": "stdout",
          "text": [
            "input your score:79\n",
            "Your score is 79\n",
            "Your grade is C\n"
          ]
        }
      ]
    },
    {
      "cell_type": "code",
      "source": [
        "# 조건식의 참과 거짓\n",
        "\n",
        "print(bool(True))\n",
        "print(bool(False))\n",
        "print(bool(123))\n",
        "print(bool(0))\n",
        "print(bool(-1))\n",
        "print(bool('apple'))\n",
        "print(bool(''))\n",
        "print(bool())"
      ],
      "metadata": {
        "colab": {
          "base_uri": "https://localhost:8080/"
        },
        "id": "h1Tq2KLdlRv5",
        "outputId": "602daea8-00cc-4fbe-cdba-8ef39c5d7c4a"
      },
      "execution_count": null,
      "outputs": [
        {
          "output_type": "stream",
          "name": "stdout",
          "text": [
            "True\n",
            "False\n",
            "True\n",
            "False\n",
            "True\n",
            "True\n",
            "False\n",
            "False\n"
          ]
        }
      ]
    },
    {
      "cell_type": "code",
      "source": [
        "# 반복문\n",
        "\n",
        "value = 5\n",
        "while value > 0:\n",
        "  print(value)\n",
        "  value -= 1"
      ],
      "metadata": {
        "colab": {
          "base_uri": "https://localhost:8080/"
        },
        "id": "gGfuFlG7nFY1",
        "outputId": "b802c701-1e1e-4992-843e-5be6ede790dd"
      },
      "execution_count": null,
      "outputs": [
        {
          "output_type": "stream",
          "name": "stdout",
          "text": [
            "5\n",
            "4\n",
            "3\n",
            "2\n",
            "1\n"
          ]
        }
      ]
    },
    {
      "cell_type": "code",
      "source": [
        "l = ['Apple', 100, 15.23]\n",
        "for i in l:\n",
        "  print(i)"
      ],
      "metadata": {
        "colab": {
          "base_uri": "https://localhost:8080/"
        },
        "id": "eiTe-_TjoItR",
        "outputId": "eb00ee0a-a39e-40f5-bf47-6651580f8efb"
      },
      "execution_count": null,
      "outputs": [
        {
          "output_type": "stream",
          "name": "stdout",
          "text": [
            "Apple\n",
            "100\n",
            "15.23\n"
          ]
        }
      ]
    },
    {
      "cell_type": "code",
      "source": [
        "loop1 = [2,3,4,5,6,7,8,9]\n",
        "loop2 = [1,2,3,4,5,6,7,8,9]\n",
        "\n",
        "for i in loop1:\n",
        "  print('{0}단---------'.format(i))\n",
        "  for j in loop2:\n",
        "    print(\"{0} * {1} = {2}\".format(i, j, i * j))"
      ],
      "metadata": {
        "id": "Qge6CgMmofZe"
      },
      "execution_count": null,
      "outputs": []
    },
    {
      "cell_type": "code",
      "source": [
        "L =[1,2,3,4,5,6,7,8,9,10]"
      ],
      "metadata": {
        "id": "mF72bsbwpFgP"
      },
      "execution_count": null,
      "outputs": []
    },
    {
      "cell_type": "code",
      "source": [
        "#break문을 사용하면 반복문을 중간에 멈출 수 있다.\n",
        "for i in L:\n",
        "  if i>5:\n",
        "    break\n",
        "  print('Item: {0}'.format(i))"
      ],
      "metadata": {
        "colab": {
          "base_uri": "https://localhost:8080/"
        },
        "id": "EbDadDLq9gwE",
        "outputId": "fa41525a-436b-457d-a578-e38a0fbc2f78"
      },
      "execution_count": null,
      "outputs": [
        {
          "output_type": "stream",
          "name": "stdout",
          "text": [
            "Item: 1\n",
            "Item: 2\n",
            "Item: 3\n",
            "Item: 4\n",
            "Item: 5\n"
          ]
        }
      ]
    },
    {
      "cell_type": "code",
      "source": [
        "#continue문을 사용하면 해당 반복만 건너뛴다.\n",
        "for i in L:\n",
        "  if i % 2 == 0:\n",
        "    continue\n",
        "  print('Item {0}'.format(i))"
      ],
      "metadata": {
        "colab": {
          "base_uri": "https://localhost:8080/"
        },
        "id": "cZq9N9wc9yOt",
        "outputId": "7d2e1f05-bca9-4637-95a3-42d4a00eb391"
      },
      "execution_count": null,
      "outputs": [
        {
          "output_type": "stream",
          "name": "stdout",
          "text": [
            "Item 1\n",
            "Item 3\n",
            "Item 5\n",
            "Item 7\n",
            "Item 9\n"
          ]
        }
      ]
    },
    {
      "cell_type": "code",
      "source": [
        "# range 함수를 사용하면 특정 범위의 숫자를 생성할 수 있다.\n",
        "print(list(range(10)))\n",
        "print(list(range(5, 10)))\n",
        "print(list(range(10, 0, -1)))\n",
        "print(list(range(0, 10, 2)))"
      ],
      "metadata": {
        "colab": {
          "base_uri": "https://localhost:8080/"
        },
        "id": "3tMJNC1D-5Vz",
        "outputId": "43ec6205-e089-4a2b-a1eb-ae3b64cf45b0"
      },
      "execution_count": null,
      "outputs": [
        {
          "output_type": "stream",
          "name": "stdout",
          "text": [
            "[0, 1, 2, 3, 4, 5, 6, 7, 8, 9]\n",
            "[5, 6, 7, 8, 9]\n",
            "[10, 9, 8, 7, 6, 5, 4, 3, 2, 1]\n",
            "[0, 2, 4, 6, 8]\n"
          ]
        }
      ]
    },
    {
      "cell_type": "code",
      "source": [
        "L = ['Apple', 'Orange', 'Banana']\n",
        "\n",
        "for i in L:\n",
        "  print(i)"
      ],
      "metadata": {
        "colab": {
          "base_uri": "https://localhost:8080/"
        },
        "id": "LhdXTfro_dMn",
        "outputId": "abc77240-4517-4587-f300-2148f505c229"
      },
      "execution_count": null,
      "outputs": [
        {
          "output_type": "stream",
          "name": "stdout",
          "text": [
            "Apple\n",
            "Orange\n",
            "Banana\n"
          ]
        }
      ]
    },
    {
      "cell_type": "code",
      "source": [
        "l = list(range(1,6))"
      ],
      "metadata": {
        "id": "QVrwV1dFAgLb"
      },
      "execution_count": null,
      "outputs": []
    },
    {
      "cell_type": "code",
      "source": [
        "#[print(i) for i in l]\n",
        "[i**2 for i in l]"
      ],
      "metadata": {
        "colab": {
          "base_uri": "https://localhost:8080/"
        },
        "id": "Bao1V-2BAp7J",
        "outputId": "683be7bc-8531-4669-b146-f46e2cc865e1"
      },
      "execution_count": null,
      "outputs": [
        {
          "output_type": "execute_result",
          "data": {
            "text/plain": [
              "[1, 4, 9, 16, 25]"
            ]
          },
          "metadata": {},
          "execution_count": 15
        }
      ]
    },
    {
      "cell_type": "code",
      "source": [],
      "metadata": {
        "id": "i4YRWFNrA0c5"
      },
      "execution_count": null,
      "outputs": []
    }
  ]
}