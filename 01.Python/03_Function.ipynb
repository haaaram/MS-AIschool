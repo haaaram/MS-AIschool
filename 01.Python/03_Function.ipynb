{
  "nbformat": 4,
  "nbformat_minor": 0,
  "metadata": {
    "colab": {
      "provenance": [],
      "authorship_tag": "ABX9TyPuQ/nr3oG6NKSuJvg6UBv8",
      "include_colab_link": true
    },
    "kernelspec": {
      "name": "python3",
      "display_name": "Python 3"
    },
    "language_info": {
      "name": "python"
    }
  },
  "cells": [
    {
      "cell_type": "markdown",
      "metadata": {
        "id": "view-in-github",
        "colab_type": "text"
      },
      "source": [
        "<a href=\"https://colab.research.google.com/github/haaaram/MS-AIschool/blob/main/01.Python/03_Function.ipynb\" target=\"_parent\"><img src=\"https://colab.research.google.com/assets/colab-badge.svg\" alt=\"Open In Colab\"/></a>"
      ]
    },
    {
      "cell_type": "code",
      "execution_count": null,
      "metadata": {
        "id": "--bsGJwcWyv5"
      },
      "outputs": [],
      "source": [
        "# Function\n",
        "\n",
        "def Times(a, b):\n",
        "  result = a * b\n",
        "  return result"
      ]
    },
    {
      "cell_type": "code",
      "source": [
        "print(Times)"
      ],
      "metadata": {
        "colab": {
          "base_uri": "https://localhost:8080/"
        },
        "id": "xdyYl0PfXd2K",
        "outputId": "47395f3f-52e8-430c-d71b-243c17a72edb"
      },
      "execution_count": null,
      "outputs": [
        {
          "output_type": "stream",
          "name": "stdout",
          "text": [
            "<function Times at 0x7f482d55ec10>\n"
          ]
        }
      ]
    },
    {
      "cell_type": "code",
      "source": [
        "print(Times(10, 20))"
      ],
      "metadata": {
        "colab": {
          "base_uri": "https://localhost:8080/"
        },
        "id": "PHKT2WxLXkbk",
        "outputId": "aac78492-9215-44ac-a5f8-507593614c0e"
      },
      "execution_count": null,
      "outputs": [
        {
          "output_type": "stream",
          "name": "stdout",
          "text": [
            "200\n"
          ]
        }
      ]
    },
    {
      "cell_type": "code",
      "source": [
        "# 메모리 주소를 확인하는 명령\n",
        "print(id(Times))"
      ],
      "metadata": {
        "colab": {
          "base_uri": "https://localhost:8080/"
        },
        "id": "-cj8XpssXzr4",
        "outputId": "8684f47c-c12f-45dd-e661-4b4ac0b0e46d"
      },
      "execution_count": null,
      "outputs": [
        {
          "output_type": "stream",
          "name": "stdout",
          "text": [
            "139947974978576\n"
          ]
        }
      ]
    },
    {
      "cell_type": "code",
      "source": [
        "globals()"
      ],
      "metadata": {
        "colab": {
          "base_uri": "https://localhost:8080/"
        },
        "id": "H9m4qbOjX9vD",
        "outputId": "d0ecdaed-ac26-48a3-acd9-87814d3b50a9"
      },
      "execution_count": null,
      "outputs": [
        {
          "output_type": "execute_result",
          "data": {
            "text/plain": [
              "{'__name__': '__main__',\n",
              " '__doc__': 'Automatically created module for IPython interactive environment',\n",
              " '__package__': None,\n",
              " '__loader__': None,\n",
              " '__spec__': None,\n",
              " '__builtin__': <module 'builtins' (built-in)>,\n",
              " '__builtins__': <module 'builtins' (built-in)>,\n",
              " '_ih': ['',\n",
              "  '# Function\\n\\ndef Times(a, b):\\n  result = a * b\\n  return result',\n",
              "  'print(Times)',\n",
              "  'print(Times(10, 20))',\n",
              "  '# 메모리 주소를 확인하는 명령\\nprint(id(Times))',\n",
              "  'globals()'],\n",
              " '_oh': {},\n",
              " '_dh': ['/content'],\n",
              " 'In': ['',\n",
              "  '# Function\\n\\ndef Times(a, b):\\n  result = a * b\\n  return result',\n",
              "  'print(Times)',\n",
              "  'print(Times(10, 20))',\n",
              "  '# 메모리 주소를 확인하는 명령\\nprint(id(Times))',\n",
              "  'globals()'],\n",
              " 'Out': {},\n",
              " 'get_ipython': <bound method InteractiveShell.get_ipython of <google.colab._shell.Shell object at 0x7f484a54ff10>>,\n",
              " 'exit': <IPython.core.autocall.ZMQExitAutocall at 0x7f484a14a3a0>,\n",
              " 'quit': <IPython.core.autocall.ZMQExitAutocall at 0x7f484a14a3a0>,\n",
              " '_': '',\n",
              " '__': '',\n",
              " '___': '',\n",
              " '_i': '# 메모리 주소를 확인하는 명령\\nprint(id(Times))',\n",
              " '_ii': 'print(Times(10, 20))',\n",
              " '_iii': 'print(Times)',\n",
              " '_i1': '# Function\\n\\ndef Times(a, b):\\n  result = a * b\\n  return result',\n",
              " 'Times': <function __main__.Times(a, b)>,\n",
              " '_i2': 'print(Times)',\n",
              " '_i3': 'print(Times(10, 20))',\n",
              " '_i4': '# 메모리 주소를 확인하는 명령\\nprint(id(Times))',\n",
              " '_i5': 'globals()'}"
            ]
          },
          "metadata": {},
          "execution_count": 5
        }
      ]
    },
    {
      "cell_type": "code",
      "source": [
        "myTimes = Times\n",
        "print(myTimes(10, 20))"
      ],
      "metadata": {
        "colab": {
          "base_uri": "https://localhost:8080/"
        },
        "id": "WiztYjGxYblp",
        "outputId": "2242d88a-3fd6-4240-ccde-250b2c4686f1"
      },
      "execution_count": null,
      "outputs": [
        {
          "output_type": "stream",
          "name": "stdout",
          "text": [
            "200\n"
          ]
        }
      ]
    },
    {
      "cell_type": "code",
      "source": [
        "print(id(myTimes))"
      ],
      "metadata": {
        "colab": {
          "base_uri": "https://localhost:8080/"
        },
        "id": "AlYssC-TYgiQ",
        "outputId": "c99d376e-35ba-4c57-b350-9201be2fa7d2"
      },
      "execution_count": null,
      "outputs": [
        {
          "output_type": "stream",
          "name": "stdout",
          "text": [
            "139947974978576\n"
          ]
        }
      ]
    },
    {
      "cell_type": "code",
      "source": [
        "a = 10\n",
        "b = 20\n",
        "def sum1(x, y):\n",
        "  return x+y"
      ],
      "metadata": {
        "id": "1HjsLNsKYx3I"
      },
      "execution_count": null,
      "outputs": []
    },
    {
      "cell_type": "code",
      "source": [
        "print(sum1(a,b))"
      ],
      "metadata": {
        "colab": {
          "base_uri": "https://localhost:8080/"
        },
        "id": "ZSaEdO1haLjW",
        "outputId": "830c46c2-d349-4fd9-ed82-38839fd23799"
      },
      "execution_count": null,
      "outputs": [
        {
          "output_type": "stream",
          "name": "stdout",
          "text": [
            "30\n"
          ]
        }
      ]
    },
    {
      "cell_type": "code",
      "source": [
        "# 변수의 범위\n",
        "\n",
        "g = 10\n",
        "x = 20\n",
        "def sum2(x, y):\n",
        "  global g\n",
        "  g = g+1\n",
        "  return x, y\n",
        "\n",
        "print(sum2(x, 20))\n",
        "print(g)"
      ],
      "metadata": {
        "colab": {
          "base_uri": "https://localhost:8080/"
        },
        "id": "VdttPfELaTyJ",
        "outputId": "fee85131-76a3-4520-937e-495fa6a596c6"
      },
      "execution_count": null,
      "outputs": [
        {
          "output_type": "stream",
          "name": "stdout",
          "text": [
            "(20, 20)\n",
            "11\n"
          ]
        }
      ]
    },
    {
      "cell_type": "code",
      "source": [
        "# 함수의 인자 (Parameter)\n",
        "\n",
        "def Times(a=10, b=20):      # 디폴트 값을 지정\n",
        "  return a * b\n",
        "\n",
        "print(Times(100, 200))\n",
        "print(Times(100))\n",
        "print(Times())\n",
        "print(Times(b=200))"
      ],
      "metadata": {
        "colab": {
          "base_uri": "https://localhost:8080/"
        },
        "id": "uJ9WBVjGbGM7",
        "outputId": "bb2650dc-d0f6-4b9e-b14a-f923b5895a10"
      },
      "execution_count": null,
      "outputs": [
        {
          "output_type": "stream",
          "name": "stdout",
          "text": [
            "20000\n",
            "2000\n",
            "200\n",
            "2000\n"
          ]
        }
      ]
    },
    {
      "cell_type": "code",
      "source": [
        "def connectURL(protocol='https', server='naver.com', port='80'):\n",
        "  address = protocol + '://' + server + ':' + port\n",
        "  return address\n",
        "\n",
        "print(connectURL(port='8080'))"
      ],
      "metadata": {
        "colab": {
          "base_uri": "https://localhost:8080/"
        },
        "id": "KH-i7kvzc3mk",
        "outputId": "701cea3d-3e89-4a89-e94d-53032328973c"
      },
      "execution_count": null,
      "outputs": [
        {
          "output_type": "stream",
          "name": "stdout",
          "text": [
            "https://naver.com:8080\n"
          ]
        }
      ]
    },
    {
      "cell_type": "code",
      "source": [
        "# 가변인자 함수\n",
        "def test(*args):\n",
        "  print(type(args))\n",
        "  print(args)\n",
        "\n",
        "test(1,2,3,4,5)\n",
        "test(1,2,3)"
      ],
      "metadata": {
        "colab": {
          "base_uri": "https://localhost:8080/"
        },
        "id": "H3CluH75eLZR",
        "outputId": "66217e6b-e690-4cad-e3e1-bc5114f6e1b8"
      },
      "execution_count": null,
      "outputs": [
        {
          "output_type": "stream",
          "name": "stdout",
          "text": [
            "<class 'tuple'>\n",
            "(1, 2, 3, 4, 5)\n",
            "<class 'tuple'>\n",
            "(1, 2, 3)\n"
          ]
        }
      ]
    },
    {
      "cell_type": "code",
      "source": [],
      "metadata": {
        "id": "jGWgdVfhjhtw"
      },
      "execution_count": null,
      "outputs": []
    }
  ]
}