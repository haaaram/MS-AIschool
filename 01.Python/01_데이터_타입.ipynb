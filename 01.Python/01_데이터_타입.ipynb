{
  "nbformat": 4,
  "nbformat_minor": 0,
  "metadata": {
    "colab": {
      "provenance": [],
      "authorship_tag": "ABX9TyPFqnZgQYx/R82hb2G7t80K",
      "include_colab_link": true
    },
    "kernelspec": {
      "name": "python3",
      "display_name": "Python 3"
    },
    "language_info": {
      "name": "python"
    }
  },
  "cells": [
    {
      "cell_type": "markdown",
      "metadata": {
        "id": "view-in-github",
        "colab_type": "text"
      },
      "source": [
        "<a href=\"https://colab.research.google.com/github/haaaram/MS-AIschool/blob/main/01.Python/01_%EB%8D%B0%EC%9D%B4%ED%84%B0_%ED%83%80%EC%9E%85.ipynb\" target=\"_parent\"><img src=\"https://colab.research.google.com/assets/colab-badge.svg\" alt=\"Open In Colab\"/></a>"
      ]
    },
    {
      "cell_type": "code",
      "execution_count": null,
      "metadata": {
        "colab": {
          "base_uri": "https://localhost:8080/"
        },
        "id": "2_xJclZKEH2N",
        "outputId": "2989d49d-a313-4b61-bac8-dfd27f2b06e5"
      },
      "outputs": [
        {
          "output_type": "stream",
          "name": "stdout",
          "text": [
            "Hello world\n"
          ]
        }
      ],
      "source": [
        "print('Hello world')"
      ]
    },
    {
      "cell_type": "code",
      "source": [
        "# 변수 규칙\n",
        "a = 1\n",
        "b = 2\n",
        "#2a = 3 항상 변수는 알파벳으로 시작해야 한다.\n",
        "student_count = 100 # 풀 워드로 짓는다.\n",
        "address = ''  # 정확한 영어로 짓는다.\n",
        "print(a * b, student_count)"
      ],
      "metadata": {
        "id": "Q3AYtMOLGg8b",
        "colab": {
          "base_uri": "https://localhost:8080/"
        },
        "outputId": "732ed3ec-0e07-4e09-8334-1f65458ec023"
      },
      "execution_count": null,
      "outputs": [
        {
          "output_type": "stream",
          "name": "stdout",
          "text": [
            "2 100\n"
          ]
        }
      ]
    },
    {
      "cell_type": "code",
      "source": [
        "# 대소문자를 구별한다.\n",
        "friend = 1\n",
        "Friend = 10\n",
        "print(friend)"
      ],
      "metadata": {
        "colab": {
          "base_uri": "https://localhost:8080/"
        },
        "id": "Unx_FWlJJ0XU",
        "outputId": "40a712c9-1fc9-45fd-aa74-9bc304333fd0"
      },
      "execution_count": null,
      "outputs": [
        {
          "output_type": "stream",
          "name": "stdout",
          "text": [
            "1\n"
          ]
        }
      ]
    },
    {
      "cell_type": "code",
      "source": [
        "# 예약어는 사용할 수 없다.\n",
        "for = 1"
      ],
      "metadata": {
        "id": "MCk5bKsgRdzT"
      },
      "execution_count": null,
      "outputs": []
    },
    {
      "cell_type": "code",
      "source": [
        "# 숫자형\n",
        "year = 2023\n",
        "month = 4\n",
        "print(year, month)"
      ],
      "metadata": {
        "colab": {
          "base_uri": "https://localhost:8080/"
        },
        "id": "haFag608RN4G",
        "outputId": "7fa4bbc5-8aad-4459-dca6-2fbb79b0cf9f"
      },
      "execution_count": null,
      "outputs": [
        {
          "output_type": "stream",
          "name": "stdout",
          "text": [
            "2023 4\n"
          ]
        }
      ]
    },
    {
      "cell_type": "code",
      "source": [
        "year = 2023\n",
        "print(type(year)) # type() 데이터의 타입을 확인하는 함수\n",
        "year = '2023'\n",
        "print(type(year))"
      ],
      "metadata": {
        "colab": {
          "base_uri": "https://localhost:8080/"
        },
        "id": "tinFdOndRUre",
        "outputId": "86dd4a40-6cd4-4f69-a0e5-983027364fef"
      },
      "execution_count": null,
      "outputs": [
        {
          "output_type": "stream",
          "name": "stdout",
          "text": [
            "<class 'int'>\n",
            "<class 'str'>\n"
          ]
        }
      ]
    },
    {
      "cell_type": "code",
      "source": [
        "# 8진수\n",
        "# 정수 앞에 0o를 붙이면 8진수\n",
        "print(0o10)\n",
        "# 정수 앞에 0b를 붙이면 2진수\n",
        "# 정수 앞에 0x를 붙이면 16진수\n",
        "print(0b10)\n",
        "print(0x10)"
      ],
      "metadata": {
        "colab": {
          "base_uri": "https://localhost:8080/"
        },
        "id": "MmRCnNJHRufH",
        "outputId": "4b3a5b49-9e12-4440-adf1-1e5ac508eb3f"
      },
      "execution_count": null,
      "outputs": [
        {
          "output_type": "stream",
          "name": "stdout",
          "text": [
            "8\n",
            "2\n",
            "16\n"
          ]
        }
      ]
    },
    {
      "cell_type": "code",
      "source": [
        "# 10진수를 받아 각 진수로 변환하는 방법\n",
        "print(oct(38)) # 10진수 38을 8진수로 변환(string 타입)\n",
        "print(hex(38)) # 16진수\n",
        "print(bin(38)) # 2진수"
      ],
      "metadata": {
        "colab": {
          "base_uri": "https://localhost:8080/"
        },
        "id": "VeIoPr6jSl36",
        "outputId": "253b0ce5-03d2-450c-d702-f7ca2a7ce00e"
      },
      "execution_count": null,
      "outputs": [
        {
          "output_type": "stream",
          "name": "stdout",
          "text": [
            "0o46\n",
            "0x26\n",
            "0b100110\n"
          ]
        }
      ]
    },
    {
      "cell_type": "code",
      "source": [
        "# 파이썬의 정수 타입\n",
        "print(type(1))      # int\n",
        "print(type(2**31))  # 2의 31승 int"
      ],
      "metadata": {
        "colab": {
          "base_uri": "https://localhost:8080/"
        },
        "id": "VteMRh00UkqU",
        "outputId": "41101349-edb5-4e4f-8a7c-9fe0ab2d7422"
      },
      "execution_count": null,
      "outputs": [
        {
          "output_type": "stream",
          "name": "stdout",
          "text": [
            "<class 'int'>\n",
            "<class 'int'>\n"
          ]
        }
      ]
    },
    {
      "cell_type": "code",
      "source": [
        "# 실수의 표현\n",
        "print(type(3.14))\n",
        "print(type(314e-2))\n",
        "print(type(3-4j))\n",
        "x = 3 - 4j\n",
        "print(x.imag)   #imag는 허수부\n",
        "print(x.real)   #real는 실수부\n",
        "print(x.conjugate())  #conjugate는 켤레 복소수 확인"
      ],
      "metadata": {
        "colab": {
          "base_uri": "https://localhost:8080/"
        },
        "id": "b0pPc2lFVIz6",
        "outputId": "10d0eab1-7489-4f11-e623-22b2e6761d68"
      },
      "execution_count": null,
      "outputs": [
        {
          "output_type": "stream",
          "name": "stdout",
          "text": [
            "<class 'float'>\n",
            "<class 'float'>\n",
            "<class 'complex'>\n",
            "-4.0\n",
            "3.0\n",
            "(3+4j)\n"
          ]
        }
      ]
    },
    {
      "cell_type": "code",
      "source": [
        "#원의 넓이와 삼각형 넓이 구하기\n",
        "r = 2\n",
        "circle_area = r ** 2 * 3.14\n",
        "print(circle_area)\n",
        "\n",
        "x = 3\n",
        "y = 4\n",
        "triangle_area = x * y / 2\n",
        "print(triangle_area)"
      ],
      "metadata": {
        "colab": {
          "base_uri": "https://localhost:8080/"
        },
        "id": "58LxyhuhXfoF",
        "outputId": "f24e5c2b-ed04-4994-a8dd-8d39b82eacf9"
      },
      "execution_count": null,
      "outputs": [
        {
          "output_type": "stream",
          "name": "stdout",
          "text": [
            "12.56\n",
            "6.0\n"
          ]
        }
      ]
    },
    {
      "cell_type": "code",
      "source": [
        "# 문자형 실습\n",
        "print('Hello World')\n",
        "print(\"Hello World\")\n",
        "print(\"Welcome to 'Python World'\")"
      ],
      "metadata": {
        "colab": {
          "base_uri": "https://localhost:8080/"
        },
        "id": "mixj8flgXqYO",
        "outputId": "f073c20e-2da6-433d-de8a-e6d4287f78fe"
      },
      "execution_count": null,
      "outputs": [
        {
          "output_type": "stream",
          "name": "stdout",
          "text": [
            "Hello World\n",
            "Hello World\n",
            "Welcome to 'Python World'\n"
          ]
        }
      ]
    },
    {
      "cell_type": "code",
      "source": [
        "print('''\n",
        "항상 태양을 바라보아라\n",
        "그리하면 너는 그림자를 볼 수 없을 것이다.\n",
        "\n",
        "                  - 헬렌켈러\n",
        "''')"
      ],
      "metadata": {
        "colab": {
          "base_uri": "https://localhost:8080/"
        },
        "id": "iXjE3o6fpbGv",
        "outputId": "6220d667-3f1a-4145-a02c-643abaff618a"
      },
      "execution_count": null,
      "outputs": [
        {
          "output_type": "stream",
          "name": "stdout",
          "text": [
            "\n",
            "항상 태양을 바라보아라\n",
            "그리하면 너는 그림자를 볼 수 없을 것이다.\n",
            "\n",
            "                  - 헬렌켈러\n",
            "\n"
          ]
        }
      ]
    },
    {
      "cell_type": "code",
      "source": [
        "print('\\t 탭 \\n 다음줄')"
      ],
      "metadata": {
        "colab": {
          "base_uri": "https://localhost:8080/"
        },
        "id": "ZK9MyKboqAvp",
        "outputId": "baebfd5e-6ee2-4671-c7ad-8880a930e0db"
      },
      "execution_count": null,
      "outputs": [
        {
          "output_type": "stream",
          "name": "stdout",
          "text": [
            "\t 탭 \n",
            " 다음줄\n"
          ]
        }
      ]
    },
    {
      "cell_type": "code",
      "source": [
        "'py' 'thon'\n",
        "print('py' 'thon')\n",
        "print('py' + 'thon') # 좋은 방법!"
      ],
      "metadata": {
        "colab": {
          "base_uri": "https://localhost:8080/"
        },
        "id": "0iBw3rqsqRrT",
        "outputId": "eea38023-b69e-4243-abe0-14ddf8e127c6"
      },
      "execution_count": null,
      "outputs": [
        {
          "output_type": "stream",
          "name": "stdout",
          "text": [
            "python\n",
            "python\n"
          ]
        }
      ]
    },
    {
      "cell_type": "code",
      "source": [
        "print('py' * 3)"
      ],
      "metadata": {
        "colab": {
          "base_uri": "https://localhost:8080/"
        },
        "id": "BKWmhGhlqd-j",
        "outputId": "fdbc0ada-f0d1-43a9-9274-bcc2cfdd15b3"
      },
      "execution_count": null,
      "outputs": [
        {
          "output_type": "stream",
          "name": "stdout",
          "text": [
            "pypypy\n"
          ]
        }
      ]
    },
    {
      "cell_type": "code",
      "source": [
        "a = 'Python'"
      ],
      "metadata": {
        "id": "5ugKhy_jq8Ms"
      },
      "execution_count": null,
      "outputs": []
    },
    {
      "cell_type": "code",
      "source": [
        "print(a[0])\n",
        "print(a[0+1])\n",
        "print(a[2])"
      ],
      "metadata": {
        "colab": {
          "base_uri": "https://localhost:8080/"
        },
        "id": "ftryuc4mr6w9",
        "outputId": "91a4ff10-d073-44f4-fbb7-46fcc33d3b47"
      },
      "execution_count": null,
      "outputs": [
        {
          "output_type": "stream",
          "name": "stdout",
          "text": [
            "P\n",
            "y\n",
            "t\n"
          ]
        }
      ]
    },
    {
      "cell_type": "code",
      "source": [
        "a[0] = 'A'  # index read-only 속성이라 수정은 불가능합니다."
      ],
      "metadata": {
        "colab": {
          "base_uri": "https://localhost:8080/",
          "height": 172
        },
        "id": "fnyu6izmsCm0",
        "outputId": "6d61c977-eafe-4704-db46-e318022c5471"
      },
      "execution_count": null,
      "outputs": [
        {
          "output_type": "error",
          "ename": "TypeError",
          "evalue": "ignored",
          "traceback": [
            "\u001b[0;31m---------------------------------------------------------------------------\u001b[0m",
            "\u001b[0;31mTypeError\u001b[0m                                 Traceback (most recent call last)",
            "\u001b[0;32m<ipython-input-39-f3c0c36c87dc>\u001b[0m in \u001b[0;36m<cell line: 1>\u001b[0;34m()\u001b[0m\n\u001b[0;32m----> 1\u001b[0;31m \u001b[0ma\u001b[0m\u001b[0;34m[\u001b[0m\u001b[0;36m0\u001b[0m\u001b[0;34m]\u001b[0m \u001b[0;34m=\u001b[0m \u001b[0;34m'A'\u001b[0m\u001b[0;34m\u001b[0m\u001b[0;34m\u001b[0m\u001b[0m\n\u001b[0m",
            "\u001b[0;31mTypeError\u001b[0m: 'str' object does not support item assignment"
          ]
        }
      ]
    },
    {
      "cell_type": "code",
      "source": [
        "# index를 이용해서 범위를 설정할 수 있다.\n",
        "print(a[0:1])\n",
        "print(a[1:4])\n",
        "print(a[:2])      # 생략은 해당 방향의 끝을 나타낸다.\n",
        "print(a[2:])\n",
        "print(a[-2:])\n",
        "print(a[:])\n",
        "print(a[::2])"
      ],
      "metadata": {
        "colab": {
          "base_uri": "https://localhost:8080/"
        },
        "id": "RD8ppftrsDAN",
        "outputId": "1045f2a1-9fd8-4309-f7f1-99e85da995fc"
      },
      "execution_count": null,
      "outputs": [
        {
          "output_type": "stream",
          "name": "stdout",
          "text": [
            "P\n",
            "yth\n",
            "Py\n",
            "thon\n",
            "on\n",
            "Python\n",
            "Pto\n"
          ]
        }
      ]
    },
    {
      "cell_type": "code",
      "source": [
        "# 데이터 타입의 변환\n",
        "print(str(3.14))  # 문자형으로 변환\n",
        "print(int('49'))  # 정수형으로 변환\n",
        "print(float(23))  # 실수형으로 변환"
      ],
      "metadata": {
        "colab": {
          "base_uri": "https://localhost:8080/"
        },
        "id": "hS8tuuzvsihl",
        "outputId": "bc17a1d5-629e-4fbf-9be4-24ee9e4c8bd5"
      },
      "execution_count": null,
      "outputs": [
        {
          "output_type": "stream",
          "name": "stdout",
          "text": [
            "3.14\n",
            "49\n",
            "23.0\n"
          ]
        }
      ]
    }
  ]
}