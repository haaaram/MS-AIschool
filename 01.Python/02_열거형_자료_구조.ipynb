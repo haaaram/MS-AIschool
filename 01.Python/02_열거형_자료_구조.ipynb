{
  "nbformat": 4,
  "nbformat_minor": 0,
  "metadata": {
    "colab": {
      "provenance": [],
      "authorship_tag": "ABX9TyPZwdTIQm3ExpsOlegLv0oU",
      "include_colab_link": true
    },
    "kernelspec": {
      "name": "python3",
      "display_name": "Python 3"
    },
    "language_info": {
      "name": "python"
    }
  },
  "cells": [
    {
      "cell_type": "markdown",
      "metadata": {
        "id": "view-in-github",
        "colab_type": "text"
      },
      "source": [
        "<a href=\"https://colab.research.google.com/github/haaaram/MS-AIschool/blob/main/01.Python/02_%EC%97%B4%EA%B1%B0%ED%98%95_%EC%9E%90%EB%A3%8C_%EA%B5%AC%EC%A1%B0.ipynb\" target=\"_parent\"><img src=\"https://colab.research.google.com/assets/colab-badge.svg\" alt=\"Open In Colab\"/></a>"
      ]
    },
    {
      "cell_type": "code",
      "execution_count": null,
      "metadata": {
        "colab": {
          "base_uri": "https://localhost:8080/"
        },
        "id": "LPCVEzZLu7tq",
        "outputId": "861595c4-8c72-48a8-d177-268968439403"
      },
      "outputs": [
        {
          "output_type": "stream",
          "name": "stdout",
          "text": [
            "['red', 'green', 'gold']\n",
            "<class 'list'>\n"
          ]
        }
      ],
      "source": [
        "# List\n",
        "colors = ['red', 'green', 'gold']\n",
        "print(colors)\n",
        "print(type(colors))"
      ]
    },
    {
      "cell_type": "code",
      "source": [
        "colors.append('blue')\n",
        "print(colors)"
      ],
      "metadata": {
        "colab": {
          "base_uri": "https://localhost:8080/"
        },
        "id": "2pWx5DzOwZ3W",
        "outputId": "10b28f92-8ac7-4d8c-f628-0a1220180f66"
      },
      "execution_count": null,
      "outputs": [
        {
          "output_type": "stream",
          "name": "stdout",
          "text": [
            "['red', 'green', 'gold', 'blue']\n"
          ]
        }
      ]
    },
    {
      "cell_type": "code",
      "source": [
        "colors.insert(1, 'black')\n",
        "print(colors)"
      ],
      "metadata": {
        "colab": {
          "base_uri": "https://localhost:8080/"
        },
        "id": "aaW0PTblwvc1",
        "outputId": "7fd28f22-d765-45a1-c7b6-f5fd47185c3f"
      },
      "execution_count": null,
      "outputs": [
        {
          "output_type": "stream",
          "name": "stdout",
          "text": [
            "['red', 'black', 'green', 'gold', 'blue']\n"
          ]
        }
      ]
    },
    {
      "cell_type": "code",
      "source": [
        "colors.extend(['white', 'gray'])\n",
        "print(colors)"
      ],
      "metadata": {
        "colab": {
          "base_uri": "https://localhost:8080/"
        },
        "id": "dWtGVUV0w42n",
        "outputId": "7744637d-115a-4816-af24-b7020ed989b4"
      },
      "execution_count": null,
      "outputs": [
        {
          "output_type": "stream",
          "name": "stdout",
          "text": [
            "['red', 'black', 'green', 'gold', 'blue', 'white', 'gray']\n"
          ]
        }
      ]
    },
    {
      "cell_type": "code",
      "source": [
        "colors += ['red'] #colors = colors + ['red']\n",
        "print(colors)"
      ],
      "metadata": {
        "colab": {
          "base_uri": "https://localhost:8080/"
        },
        "id": "p7uOEuYjxZeF",
        "outputId": "ab8decc1-8063-4b7f-a3f3-3f4b096af530"
      },
      "execution_count": null,
      "outputs": [
        {
          "output_type": "stream",
          "name": "stdout",
          "text": [
            "['red', 'black', 'green', 'gold', 'blue', 'white', 'gray', 'red']\n"
          ]
        }
      ]
    },
    {
      "cell_type": "code",
      "source": [
        "colors += 'red'\n",
        "print(colors)"
      ],
      "metadata": {
        "colab": {
          "base_uri": "https://localhost:8080/"
        },
        "id": "iDv40QakzjSA",
        "outputId": "e8f0378d-c907-4bde-aa1d-684e9371b949"
      },
      "execution_count": null,
      "outputs": [
        {
          "output_type": "stream",
          "name": "stdout",
          "text": [
            "['red', 'black', 'green', 'gold', 'blue', 'white', 'gray', 'red', 'r', 'e', 'd']\n"
          ]
        }
      ]
    },
    {
      "cell_type": "code",
      "source": [
        "print(colors.index('red'))\n",
        "print(colors.index('red', 1))\n",
        "print(colors.count('red'))"
      ],
      "metadata": {
        "colab": {
          "base_uri": "https://localhost:8080/"
        },
        "id": "zgpfSraUx-WW",
        "outputId": "e2c91493-21d7-42cb-e4c7-ddfccecbfb85"
      },
      "execution_count": null,
      "outputs": [
        {
          "output_type": "stream",
          "name": "stdout",
          "text": [
            "0\n",
            "7\n",
            "2\n"
          ]
        }
      ]
    },
    {
      "cell_type": "code",
      "source": [
        "colors.pop()"
      ],
      "metadata": {
        "colab": {
          "base_uri": "https://localhost:8080/",
          "height": 35
        },
        "id": "vZtrDN2iy_5X",
        "outputId": "f0c0052c-4782-4fe4-a37b-075aadfc3f95"
      },
      "execution_count": null,
      "outputs": [
        {
          "output_type": "execute_result",
          "data": {
            "text/plain": [
              "'d'"
            ],
            "application/vnd.google.colaboratory.intrinsic+json": {
              "type": "string"
            }
          },
          "metadata": {},
          "execution_count": 21
        }
      ]
    },
    {
      "cell_type": "code",
      "source": [
        "colors.pop()"
      ],
      "metadata": {
        "colab": {
          "base_uri": "https://localhost:8080/",
          "height": 35
        },
        "id": "EkWQ4enA6PZQ",
        "outputId": "4ed4a6a6-348d-45e7-9a0f-9318c2fdf0d9"
      },
      "execution_count": null,
      "outputs": [
        {
          "output_type": "execute_result",
          "data": {
            "text/plain": [
              "'e'"
            ],
            "application/vnd.google.colaboratory.intrinsic+json": {
              "type": "string"
            }
          },
          "metadata": {},
          "execution_count": 22
        }
      ]
    },
    {
      "cell_type": "code",
      "source": [
        "colors.pop(1)"
      ],
      "metadata": {
        "colab": {
          "base_uri": "https://localhost:8080/",
          "height": 35
        },
        "id": "5j8NEZdd6b6k",
        "outputId": "ff3eb6ad-fa80-41e1-de1e-0cb8df6e5b43"
      },
      "execution_count": null,
      "outputs": [
        {
          "output_type": "execute_result",
          "data": {
            "text/plain": [
              "'black'"
            ],
            "application/vnd.google.colaboratory.intrinsic+json": {
              "type": "string"
            }
          },
          "metadata": {},
          "execution_count": 23
        }
      ]
    },
    {
      "cell_type": "code",
      "source": [
        "print(colors)"
      ],
      "metadata": {
        "colab": {
          "base_uri": "https://localhost:8080/"
        },
        "id": "8yOEIXFt6ogs",
        "outputId": "61b86690-9702-4f17-d360-7a693650415f"
      },
      "execution_count": null,
      "outputs": [
        {
          "output_type": "stream",
          "name": "stdout",
          "text": [
            "['red', 'green', 'gold', 'blue', 'white', 'gray', 'red', 'r']\n"
          ]
        }
      ]
    },
    {
      "cell_type": "code",
      "source": [
        "#remove는 해당 값을 삭제 할 수 있습니다.\n",
        "colors.remove('gold')\n",
        "print(colors)"
      ],
      "metadata": {
        "colab": {
          "base_uri": "https://localhost:8080/"
        },
        "id": "GBAdpqj36vm0",
        "outputId": "c0dfd2b0-5d68-4b1d-b63b-9455bc945943"
      },
      "execution_count": null,
      "outputs": [
        {
          "output_type": "stream",
          "name": "stdout",
          "text": [
            "['red', 'green', 'blue', 'white', 'gray', 'red', 'r']\n"
          ]
        }
      ]
    },
    {
      "cell_type": "code",
      "source": [
        "# sort는 알파벳 순서대로 정렬한다.\n",
        "colors.sort()\n",
        "print(colors)\n",
        "colors.reverse()\n",
        "print(colors)"
      ],
      "metadata": {
        "colab": {
          "base_uri": "https://localhost:8080/"
        },
        "id": "sN7yH0TK7PtV",
        "outputId": "e1998a57-c744-478f-d0bd-eb2035595284"
      },
      "execution_count": null,
      "outputs": [
        {
          "output_type": "stream",
          "name": "stdout",
          "text": [
            "['blue', 'gray', 'green', 'r', 'red', 'red', 'white']\n",
            "['white', 'red', 'red', 'r', 'green', 'gray', 'blue']\n"
          ]
        }
      ]
    },
    {
      "cell_type": "code",
      "source": [
        "# 세트(set)\n",
        "a = {1,2,3}\n",
        "b = {3,4,5}"
      ],
      "metadata": {
        "id": "PSs2mHkg7YbZ"
      },
      "execution_count": null,
      "outputs": []
    },
    {
      "cell_type": "code",
      "source": [
        "print(a, b)\n",
        "print(type(a))"
      ],
      "metadata": {
        "colab": {
          "base_uri": "https://localhost:8080/"
        },
        "id": "Aae9pITZ8RfM",
        "outputId": "c468c92e-457a-4a61-8a7d-2a0db1a8a94f"
      },
      "execution_count": null,
      "outputs": [
        {
          "output_type": "stream",
          "name": "stdout",
          "text": [
            "{1, 2, 3} {3, 4, 5}\n",
            "<class 'set'>\n"
          ]
        }
      ]
    },
    {
      "cell_type": "code",
      "source": [
        "# 합집합, 교집합을 구할 수 있다.\n",
        "print(a.union(b))           # 합집합\n",
        "print(a.intersection(b))    # 교집합"
      ],
      "metadata": {
        "colab": {
          "base_uri": "https://localhost:8080/"
        },
        "id": "khh1TCka8XLa",
        "outputId": "bd44a81b-4d99-4b93-e905-1d2d8938b505"
      },
      "execution_count": null,
      "outputs": [
        {
          "output_type": "stream",
          "name": "stdout",
          "text": [
            "{1, 2, 3, 4, 5}\n",
            "{3}\n"
          ]
        }
      ]
    },
    {
      "cell_type": "code",
      "source": [
        "print(a - b)                # 차집합\n",
        "print(a | b)                # 합집합\n",
        "print(a & b)                # 교집합"
      ],
      "metadata": {
        "colab": {
          "base_uri": "https://localhost:8080/"
        },
        "id": "nRG88t6E8x-0",
        "outputId": "d81787b5-3162-4346-ae9a-03cb76f4e3ee"
      },
      "execution_count": null,
      "outputs": [
        {
          "output_type": "stream",
          "name": "stdout",
          "text": [
            "{1, 2}\n",
            "{1, 2, 3, 4, 5}\n",
            "{3}\n"
          ]
        }
      ]
    },
    {
      "cell_type": "code",
      "source": [
        "# 튜플(tuple)\n",
        "t = (1,2,3)\n",
        "print(type(t))"
      ],
      "metadata": {
        "colab": {
          "base_uri": "https://localhost:8080/"
        },
        "id": "tDAOGjRY9Zfv",
        "outputId": "5a9ffe1c-0bdb-44d3-bf52-9a57b004b613"
      },
      "execution_count": null,
      "outputs": [
        {
          "output_type": "stream",
          "name": "stdout",
          "text": [
            "<class 'tuple'>\n"
          ]
        }
      ]
    },
    {
      "cell_type": "code",
      "source": [
        "a, b = 1, 2\n",
        "print(a, b)"
      ],
      "metadata": {
        "colab": {
          "base_uri": "https://localhost:8080/"
        },
        "id": "BqDqciVy-Jbw",
        "outputId": "d391259a-084f-493a-d1a6-bce9254137be"
      },
      "execution_count": null,
      "outputs": [
        {
          "output_type": "stream",
          "name": "stdout",
          "text": [
            "1 2\n"
          ]
        }
      ]
    },
    {
      "cell_type": "code",
      "source": [
        "a = 10\n",
        "b = 20\n",
        "(a, b) = (b, a)\n",
        "print(a, b)"
      ],
      "metadata": {
        "colab": {
          "base_uri": "https://localhost:8080/"
        },
        "id": "CwuOVEKh-anW",
        "outputId": "7f4974f6-95fd-4d15-97f9-d5740b299399"
      },
      "execution_count": null,
      "outputs": [
        {
          "output_type": "stream",
          "name": "stdout",
          "text": [
            "20 10\n"
          ]
        }
      ]
    },
    {
      "cell_type": "code",
      "source": [
        "# 타입의 전환도 무척 간단하다.\n",
        "a = set((1,2,3))\n",
        "print(type(a))\n",
        "b = list(a)\n",
        "print(type(b))\n",
        "c = tuple(b)\n",
        "print(type(c))\n",
        "d = set(c)\n",
        "print(type(d))"
      ],
      "metadata": {
        "colab": {
          "base_uri": "https://localhost:8080/"
        },
        "id": "GmbPl52t_hIS",
        "outputId": "0c14aeee-7db2-4a00-ff34-e5d999ef2575"
      },
      "execution_count": null,
      "outputs": [
        {
          "output_type": "stream",
          "name": "stdout",
          "text": [
            "<class 'set'>\n",
            "<class 'list'>\n",
            "<class 'tuple'>\n",
            "<class 'set'>\n"
          ]
        }
      ]
    },
    {
      "cell_type": "code",
      "source": [
        "# in 연산자를 통해서 해당 값이 있는지 확인 가능하다.\n",
        "a = set((1,2,3))\n",
        "print(1 in a)             # in 연산자는 데이터 타입에 상관없이 사용할 수 있다."
      ],
      "metadata": {
        "colab": {
          "base_uri": "https://localhost:8080/"
        },
        "id": "Z-jJJg4dAqRb",
        "outputId": "1c0be22c-4287-4a01-e67a-3a6ec6aa0c56"
      },
      "execution_count": null,
      "outputs": [
        {
          "output_type": "stream",
          "name": "stdout",
          "text": [
            "True\n"
          ]
        }
      ]
    },
    {
      "cell_type": "code",
      "source": [
        "# 사전 (Dictionary)\n",
        "\n",
        "d = dict(a=1, b=2, c=3)\n",
        "print(d)\n",
        "print(type(d))"
      ],
      "metadata": {
        "colab": {
          "base_uri": "https://localhost:8080/"
        },
        "id": "45rCsiZHBCgD",
        "outputId": "73806596-d132-4003-8943-6816a3fb2ac4"
      },
      "execution_count": null,
      "outputs": [
        {
          "output_type": "stream",
          "name": "stdout",
          "text": [
            "{'a': 1, 'b': 2, 'c': 3}\n",
            "<class 'dict'>\n"
          ]
        }
      ]
    },
    {
      "cell_type": "code",
      "source": [
        "color = {'apple' : 'red', 'banana' : 'yellow'}\n",
        "print(color)"
      ],
      "metadata": {
        "colab": {
          "base_uri": "https://localhost:8080/"
        },
        "id": "FFKRMZexEhPh",
        "outputId": "db525556-9d6d-4a72-c775-8388032f3980"
      },
      "execution_count": null,
      "outputs": [
        {
          "output_type": "stream",
          "name": "stdout",
          "text": [
            "{'apple': 'red', 'banana': 'yellow'}\n"
          ]
        }
      ]
    },
    {
      "cell_type": "code",
      "source": [
        "print(color['apple'])\n",
        "#print(color[0]) -> Error! dict 타입은 인덱스가 없다.\n",
        "#print(color['cherry']) -> 없는 걸 물으면 Error"
      ],
      "metadata": {
        "colab": {
          "base_uri": "https://localhost:8080/"
        },
        "id": "nrB4I7PdFKCz",
        "outputId": "a751a081-cf62-40c3-ccd9-3dcfd54d406a"
      },
      "execution_count": null,
      "outputs": [
        {
          "output_type": "stream",
          "name": "stdout",
          "text": [
            "red\n"
          ]
        }
      ]
    },
    {
      "cell_type": "code",
      "source": [
        "color['cherry'] = 'red'\n",
        "print(color)"
      ],
      "metadata": {
        "colab": {
          "base_uri": "https://localhost:8080/"
        },
        "id": "9tg8Rs_tFaQ8",
        "outputId": "68a94991-ecff-45fd-e468-b78c66c4c55d"
      },
      "execution_count": null,
      "outputs": [
        {
          "output_type": "stream",
          "name": "stdout",
          "text": [
            "{'apple': 'red', 'banana': 'yellow', 'cherry': 'red'}\n"
          ]
        }
      ]
    },
    {
      "cell_type": "code",
      "source": [
        "color['apple'] = 'green'\n",
        "print(color)"
      ],
      "metadata": {
        "colab": {
          "base_uri": "https://localhost:8080/"
        },
        "id": "bXjDw5dUGbRk",
        "outputId": "a5011a6f-4163-4efa-dd6c-c41145c0b616"
      },
      "execution_count": null,
      "outputs": [
        {
          "output_type": "stream",
          "name": "stdout",
          "text": [
            "{'apple': 'green', 'banana': 'yellow', 'cherry': 'red'}\n"
          ]
        }
      ]
    },
    {
      "cell_type": "code",
      "source": [
        "print(color.keys())\n",
        "print(color.values())\n",
        "print(color.items())"
      ],
      "metadata": {
        "colab": {
          "base_uri": "https://localhost:8080/"
        },
        "id": "SAbMbkcxGx_N",
        "outputId": "862b516b-217d-4007-d829-09828245d557"
      },
      "execution_count": null,
      "outputs": [
        {
          "output_type": "stream",
          "name": "stdout",
          "text": [
            "dict_keys(['apple', 'banana', 'cherry'])\n",
            "dict_values(['green', 'yellow', 'red'])\n",
            "dict_items([('apple', 'green'), ('banana', 'yellow'), ('cherry', 'red')])\n"
          ]
        }
      ]
    },
    {
      "cell_type": "code",
      "source": [
        "# for 문을 사용해서 데이터 가져와보기\n",
        "for k in color.keys():\n",
        "  print(k)\n",
        "for tmp in color.values():\n",
        "  print(tmp)\n",
        "for i in color.items():\n",
        "  print(i)\n",
        "for (k, v) in color.items():\n",
        "  print(k, v)"
      ],
      "metadata": {
        "colab": {
          "base_uri": "https://localhost:8080/"
        },
        "id": "ueDW5MSuHH41",
        "outputId": "9be050f2-00b1-463e-96a9-e3332412fb57"
      },
      "execution_count": null,
      "outputs": [
        {
          "output_type": "stream",
          "name": "stdout",
          "text": [
            "apple\n",
            "banana\n",
            "cherry\n",
            "green\n",
            "yellow\n",
            "red\n",
            "('apple', 'green')\n",
            "('banana', 'yellow')\n",
            "('cherry', 'red')\n",
            "apple green\n",
            "banana yellow\n",
            "cherry red\n"
          ]
        }
      ]
    },
    {
      "cell_type": "code",
      "source": [
        "# Dict에서 불필요한 아이템의 삭제\n",
        "\n",
        "del color['cherry']\n",
        "print(color)"
      ],
      "metadata": {
        "colab": {
          "base_uri": "https://localhost:8080/"
        },
        "id": "2-8QkgxhI_ns",
        "outputId": "42132649-9611-4fd4-d8bb-695a3bb71467"
      },
      "execution_count": null,
      "outputs": [
        {
          "output_type": "stream",
          "name": "stdout",
          "text": [
            "{'apple': 'green', 'banana': 'yellow'}\n"
          ]
        }
      ]
    },
    {
      "cell_type": "code",
      "source": [
        "color.clear()\n",
        "print(color)"
      ],
      "metadata": {
        "colab": {
          "base_uri": "https://localhost:8080/"
        },
        "id": "KFPmk907LLeJ",
        "outputId": "befbbd11-a663-421b-ee86-73b90eeadda7"
      },
      "execution_count": null,
      "outputs": [
        {
          "output_type": "stream",
          "name": "stdout",
          "text": [
            "{}\n"
          ]
        }
      ]
    },
    {
      "cell_type": "code",
      "source": [
        "# 데이터 타입은 서로 혼용해서 사용하는 것이 가능하다.\n",
        "d = {'age': 40.5, 'job': [1,2,3], 'name':{'Kim':2}, 'Cho': 1}\n",
        "print(d)"
      ],
      "metadata": {
        "colab": {
          "base_uri": "https://localhost:8080/"
        },
        "id": "nrcVdOMgLPqX",
        "outputId": "8ae578c5-b260-4d54-92a4-4c1aec98b798"
      },
      "execution_count": null,
      "outputs": [
        {
          "output_type": "stream",
          "name": "stdout",
          "text": [
            "{'age': 40.5, 'job': [1, 2, 3], 'name': {'Kim': 2}, 'Cho': 1}\n"
          ]
        }
      ]
    },
    {
      "cell_type": "code",
      "source": [
        "# bool 타입\n",
        "isRight = False\n",
        "print(type(isRight))"
      ],
      "metadata": {
        "colab": {
          "base_uri": "https://localhost:8080/"
        },
        "id": "K908CVJhNGKH",
        "outputId": "7a6b3367-f1a5-4cb5-f576-caeb58b0f377"
      },
      "execution_count": null,
      "outputs": [
        {
          "output_type": "stream",
          "name": "stdout",
          "text": [
            "<class 'bool'>\n"
          ]
        }
      ]
    },
    {
      "cell_type": "code",
      "source": [
        "print(1<2)\n",
        "print(1==2)\n",
        "print(1 != 2)"
      ],
      "metadata": {
        "colab": {
          "base_uri": "https://localhost:8080/"
        },
        "id": "b6q8ODVWNslz",
        "outputId": "f39b4afc-95a1-492b-df85-f01ec0744034"
      },
      "execution_count": null,
      "outputs": [
        {
          "output_type": "stream",
          "name": "stdout",
          "text": [
            "True\n",
            "False\n",
            "True\n"
          ]
        }
      ]
    },
    {
      "cell_type": "code",
      "source": [
        "# 논리 연산자\n",
        "print(True and False)\n",
        "print(True & True)\n",
        "print(True or False)\n",
        "print(False | False)\n",
        "print(not True)"
      ],
      "metadata": {
        "colab": {
          "base_uri": "https://localhost:8080/"
        },
        "id": "t0NtV0wnN00p",
        "outputId": "560c64e2-4d49-484b-d923-23727404d9e8"
      },
      "execution_count": null,
      "outputs": [
        {
          "output_type": "stream",
          "name": "stdout",
          "text": [
            "False\n",
            "True\n",
            "True\n",
            "False\n",
            "False\n"
          ]
        }
      ]
    },
    {
      "cell_type": "code",
      "source": [
        "# 얕은 복사와 깊은 복사\n",
        "\n",
        "a = [1,2,3]\n",
        "b = a\n",
        "print(b)"
      ],
      "metadata": {
        "colab": {
          "base_uri": "https://localhost:8080/"
        },
        "id": "UHn-bEEMOhQh",
        "outputId": "f428f08c-9c2f-4159-dee1-0a198fec57a5"
      },
      "execution_count": null,
      "outputs": [
        {
          "output_type": "stream",
          "name": "stdout",
          "text": [
            "[1, 2, 3]\n"
          ]
        }
      ]
    },
    {
      "cell_type": "code",
      "source": [
        "a[0] = 38\n",
        "print(a)\n",
        "print(b)"
      ],
      "metadata": {
        "colab": {
          "base_uri": "https://localhost:8080/"
        },
        "id": "K0hipE37Tj_U",
        "outputId": "e79bb372-ac0f-4788-a2ab-11b3c502dfce"
      },
      "execution_count": null,
      "outputs": [
        {
          "output_type": "stream",
          "name": "stdout",
          "text": [
            "[38, 2, 3]\n",
            "[38, 2, 3]\n"
          ]
        }
      ]
    },
    {
      "cell_type": "code",
      "source": [
        "# call by value\n",
        "a = [1,2,3]\n",
        "b = a[:]\n",
        "a[0] = 38\n",
        "print(a, b)"
      ],
      "metadata": {
        "colab": {
          "base_uri": "https://localhost:8080/"
        },
        "id": "BChDMkNCTsi3",
        "outputId": "b7bd25ef-4b6d-4fb1-9a05-773fa0d9d838"
      },
      "execution_count": null,
      "outputs": [
        {
          "output_type": "stream",
          "name": "stdout",
          "text": [
            "[38, 2, 3] [1, 2, 3]\n"
          ]
        }
      ]
    },
    {
      "cell_type": "code",
      "source": [
        "# copy module을 사용하는 법\n",
        "import copy\n",
        "\n",
        "a = [1,2,3]\n",
        "b = copy.deepcopy(a)\n",
        "b = a[:]\n",
        "a[0] = 38\n",
        "print(a, b)"
      ],
      "metadata": {
        "colab": {
          "base_uri": "https://localhost:8080/"
        },
        "id": "DO4Mavr9VNUB",
        "outputId": "5c751f97-0190-4b3e-ff7e-f6d1dd9b9bdc"
      },
      "execution_count": null,
      "outputs": [
        {
          "output_type": "stream",
          "name": "stdout",
          "text": [
            "[38, 2, 3] [1, 2, 3]\n"
          ]
        }
      ]
    },
    {
      "cell_type": "code",
      "source": [],
      "metadata": {
        "id": "mKqmaFH_V8XF"
      },
      "execution_count": null,
      "outputs": []
    }
  ]
}