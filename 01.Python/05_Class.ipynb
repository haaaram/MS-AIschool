{
  "nbformat": 4,
  "nbformat_minor": 0,
  "metadata": {
    "colab": {
      "provenance": [],
      "authorship_tag": "ABX9TyN6HzWQF6bDSdd972Rx5QTO",
      "include_colab_link": true
    },
    "kernelspec": {
      "name": "python3",
      "display_name": "Python 3"
    },
    "language_info": {
      "name": "python"
    }
  },
  "cells": [
    {
      "cell_type": "markdown",
      "metadata": {
        "id": "view-in-github",
        "colab_type": "text"
      },
      "source": [
        "<a href=\"https://colab.research.google.com/github/haaaram/MS-AIschool/blob/main/01.Python/05_Class.ipynb\" target=\"_parent\"><img src=\"https://colab.research.google.com/assets/colab-badge.svg\" alt=\"Open In Colab\"/></a>"
      ]
    },
    {
      "cell_type": "code",
      "execution_count": null,
      "metadata": {
        "id": "Ft1mhgcECd-A"
      },
      "outputs": [],
      "source": [
        "# Class의 사용법\n",
        "\n",
        "class MyClass:\n",
        "  pass"
      ]
    },
    {
      "cell_type": "code",
      "source": [
        "print(id(MyClass))"
      ],
      "metadata": {
        "colab": {
          "base_uri": "https://localhost:8080/"
        },
        "id": "Ge8xoijgF28E",
        "outputId": "7bc5074d-356e-4402-9c19-53dff1df429d"
      },
      "execution_count": null,
      "outputs": [
        {
          "output_type": "stream",
          "name": "stdout",
          "text": [
            "58257024\n"
          ]
        }
      ]
    },
    {
      "cell_type": "code",
      "source": [
        "class Person:\n",
        "  Name = \"Defalut Name\"\n",
        "\n",
        "  def Print(self):\n",
        "    print('My Name is {0}'.format(self.Name))"
      ],
      "metadata": {
        "id": "hve0c8mBGwJN"
      },
      "execution_count": null,
      "outputs": []
    },
    {
      "cell_type": "code",
      "source": [
        "p1 = Person()\n",
        "p2 = Person()"
      ],
      "metadata": {
        "id": "oxQyyloMLsf_"
      },
      "execution_count": null,
      "outputs": []
    },
    {
      "cell_type": "code",
      "source": [
        "p1.Name = '윤하'\n",
        "p2.Name = '민아'\n",
        "p1.Print()\n",
        "p2.Print()"
      ],
      "metadata": {
        "colab": {
          "base_uri": "https://localhost:8080/"
        },
        "id": "KSF10u6rMTOD",
        "outputId": "6bf30b5a-fc98-4898-e1de-ab32670911b9"
      },
      "execution_count": null,
      "outputs": [
        {
          "output_type": "stream",
          "name": "stdout",
          "text": [
            "My Name is 윤하\n",
            "My Name is 민아\n"
          ]
        }
      ]
    },
    {
      "cell_type": "code",
      "source": [
        "Person.Title = 'New Title'"
      ],
      "metadata": {
        "id": "XNtthdz2MVC9"
      },
      "execution_count": null,
      "outputs": []
    },
    {
      "cell_type": "code",
      "source": [
        "print(p1.Title)\n",
        "print(p2.Title)"
      ],
      "metadata": {
        "colab": {
          "base_uri": "https://localhost:8080/"
        },
        "id": "4KszVchpOIfg",
        "outputId": "35c11af0-0f6a-4197-8543-425a0e4b75fc"
      },
      "execution_count": null,
      "outputs": [
        {
          "output_type": "stream",
          "name": "stdout",
          "text": [
            "New Title\n",
            "New Title\n"
          ]
        }
      ]
    },
    {
      "cell_type": "code",
      "source": [
        "p1.Age = 30"
      ],
      "metadata": {
        "id": "g7NjTbtmOM_E"
      },
      "execution_count": null,
      "outputs": []
    },
    {
      "cell_type": "code",
      "source": [
        "print(p1.Age)\n",
        "#print(p2.Age) -> error p2에는 Age 없음"
      ],
      "metadata": {
        "colab": {
          "base_uri": "https://localhost:8080/"
        },
        "id": "FfJ2zDRPObNj",
        "outputId": "d0ffc999-0d11-4cc1-ff10-0fdeefdb6572"
      },
      "execution_count": null,
      "outputs": [
        {
          "output_type": "stream",
          "name": "stdout",
          "text": [
            "30\n"
          ]
        }
      ]
    },
    {
      "cell_type": "code",
      "source": [
        "# Class의 상속\n",
        "\n",
        "class Person:\n",
        "  pass"
      ],
      "metadata": {
        "id": "2Mrgw6_zOrzR"
      },
      "execution_count": null,
      "outputs": []
    },
    {
      "cell_type": "code",
      "source": [
        "class Student(Person):\n",
        "  pass"
      ],
      "metadata": {
        "id": "qI1Gp21APSV2"
      },
      "execution_count": null,
      "outputs": []
    },
    {
      "cell_type": "code",
      "source": [
        "class Bird:\n",
        "  pass"
      ],
      "metadata": {
        "id": "MstlUse-PfYW"
      },
      "execution_count": null,
      "outputs": []
    },
    {
      "cell_type": "code",
      "source": [
        "p = Person()\n",
        "s = Student()"
      ],
      "metadata": {
        "id": "HYETPUnsPtx7"
      },
      "execution_count": null,
      "outputs": []
    },
    {
      "cell_type": "code",
      "source": [
        "# isiinstance 인스턴스 관계를 확인하는 함수\n",
        "print(isinstance(p, Person))\n",
        "print(isinstance(s, Person))\n",
        "print(isinstance(s, object))\n",
        "print(isinstance(int, object))"
      ],
      "metadata": {
        "colab": {
          "base_uri": "https://localhost:8080/"
        },
        "id": "jthy7kbZQeiB",
        "outputId": "be53503d-d208-4943-b4a9-0cdefce8c428"
      },
      "execution_count": null,
      "outputs": [
        {
          "output_type": "stream",
          "name": "stdout",
          "text": [
            "True\n",
            "True\n",
            "True\n",
            "True\n"
          ]
        }
      ]
    },
    {
      "cell_type": "code",
      "source": [
        "# 생성자 소멸자 메소드\n",
        "class MyClass:\n",
        "  def __init__(self):\n",
        "    print('class is created')"
      ],
      "metadata": {
        "id": "7-lKpazlQp-v"
      },
      "execution_count": null,
      "outputs": []
    },
    {
      "cell_type": "code",
      "source": [
        "my = MyClass()\n",
        "del my"
      ],
      "metadata": {
        "colab": {
          "base_uri": "https://localhost:8080/"
        },
        "id": "kGgikXzNRz8p",
        "outputId": "4c72e5ab-4834-4c3a-fe66-22559b470f9b"
      },
      "execution_count": null,
      "outputs": [
        {
          "output_type": "stream",
          "name": "stdout",
          "text": [
            "class is created\n"
          ]
        }
      ]
    },
    {
      "cell_type": "code",
      "source": [
        "class Person:\n",
        "  Name = ''\n",
        "  def __init__(self, name, age):\n",
        "    self.Name = name\n",
        "    self.Age  = age\n",
        "\n",
        "  def __del__(self):\n",
        "    print('{0} 잘 살다 갑니다.'.format(self.Name))\n",
        "\n",
        "  def PrintName(self):\n",
        "    print(self.Name)\n",
        "    print(self.Age)"
      ],
      "metadata": {
        "id": "BWD9EQ0RR-QE"
      },
      "execution_count": null,
      "outputs": []
    },
    {
      "cell_type": "code",
      "source": [
        "p = Person('황비홍', 40)\n",
        "p.PrintName()\n",
        "del p"
      ],
      "metadata": {
        "colab": {
          "base_uri": "https://localhost:8080/"
        },
        "id": "Q1SIi6dGTCJv",
        "outputId": "3f2cc4d7-c351-4cd8-a925-110c402ca666"
      },
      "execution_count": null,
      "outputs": [
        {
          "output_type": "stream",
          "name": "stdout",
          "text": [
            "황비홍\n",
            "40\n",
            "황비홍 잘 살다 갑니다.\n"
          ]
        }
      ]
    },
    {
      "cell_type": "code",
      "source": [
        "# 정적(static) 메소드\n",
        "class CounterManager:\n",
        "  InsCount = 0\n",
        "\n",
        "  def __init__(self):\n",
        "    CounterManager.InsCount += 1\n",
        "  def PrintInstanceCount():               #정적 메소드로 전환\n",
        "    print('Instance Count:', CounterManager.InsCount)\n",
        "\n",
        "  StaticCount = staticmethod(PrintInstanceCount)"
      ],
      "metadata": {
        "id": "PHeVp_0dTjT-"
      },
      "execution_count": null,
      "outputs": []
    },
    {
      "cell_type": "code",
      "source": [
        "a = CounterManager()\n",
        "b = CounterManager()\n",
        "c = CounterManager()"
      ],
      "metadata": {
        "id": "6_4P3DyZZEXD"
      },
      "execution_count": null,
      "outputs": []
    },
    {
      "cell_type": "code",
      "source": [
        "CounterManager.PrintInstanceCount()     #class를 직접 사용하는 것은 금기"
      ],
      "metadata": {
        "colab": {
          "base_uri": "https://localhost:8080/"
        },
        "id": "ersA_CyCZWb4",
        "outputId": "8720a4c7-9f25-461f-df2f-b2a636a4bd90"
      },
      "execution_count": null,
      "outputs": [
        {
          "output_type": "stream",
          "name": "stdout",
          "text": [
            "Instance Count: 3\n"
          ]
        }
      ]
    },
    {
      "cell_type": "code",
      "source": [
        "p = CounterManager()\n",
        "p.StaticCount()"
      ],
      "metadata": {
        "colab": {
          "base_uri": "https://localhost:8080/"
        },
        "id": "9CvJXHXbZbkq",
        "outputId": "19f4e7d1-25fe-4a53-e636-5f397bbc1a3e"
      },
      "execution_count": null,
      "outputs": [
        {
          "output_type": "stream",
          "name": "stdout",
          "text": [
            "Instance Count: 4\n"
          ]
        }
      ]
    },
    {
      "cell_type": "code",
      "source": [
        "# 상속의 심화\n",
        "class Person:\n",
        "  def __init__(self, name, phone):\n",
        "    self.Name = name\n",
        "    self.Phone = phone\n",
        "\n",
        "  def PrintInfo(self):\n",
        "    print('Info(Name: {0}, Phone {1}'.format(self.Name, self.Phone))\n",
        "\n",
        "  def PrintPersonData(self):\n",
        "    print('Person(Name: {0}, Phone {1}'.format(self.Name, self.Phone))"
      ],
      "metadata": {
        "id": "--Qozpk9Z1eo"
      },
      "execution_count": null,
      "outputs": []
    },
    {
      "cell_type": "code",
      "source": [
        "class Student(Person):\n",
        "  def __init__(self, name, phone, subject, studentID):\n",
        "    self.Name = name\n",
        "    self.Phone = phone\n",
        "    self.Subject = subject\n",
        "    self.StudentID = studentID"
      ],
      "metadata": {
        "id": "MG1GLlRMb9eW"
      },
      "execution_count": null,
      "outputs": []
    },
    {
      "cell_type": "code",
      "source": [
        "p = Person('박보검', '010-1111-1111')\n",
        "s = Student('이유라', '010-1111-2222', '학생회장', '0001')"
      ],
      "metadata": {
        "id": "UOknAkY5cj4r"
      },
      "execution_count": null,
      "outputs": []
    },
    {
      "cell_type": "code",
      "source": [
        "print(p.__dict__)\n",
        "print(s.__dict__)"
      ],
      "metadata": {
        "colab": {
          "base_uri": "https://localhost:8080/"
        },
        "id": "W9fn4C_edLj8",
        "outputId": "05e52a79-6f24-45f9-ee0b-e603103c837a"
      },
      "execution_count": null,
      "outputs": [
        {
          "output_type": "stream",
          "name": "stdout",
          "text": [
            "{'Name': '박보검', 'Phone': '010-1111-1111'}\n",
            "{'Name': '이유라', 'Phone': '010-1111-2222', 'Subject': '학생회장', 'StudentID': '0001'}\n"
          ]
        }
      ]
    },
    {
      "cell_type": "code",
      "source": [
        "s.PrintInfo()"
      ],
      "metadata": {
        "colab": {
          "base_uri": "https://localhost:8080/"
        },
        "id": "TF8joZqydR6Q",
        "outputId": "d9af3a41-7cf4-486b-98f2-d01c2cc7d0db"
      },
      "execution_count": null,
      "outputs": [
        {
          "output_type": "stream",
          "name": "stdout",
          "text": [
            "Info(Name: 이유라, Phone 010-1111-2222\n"
          ]
        }
      ]
    },
    {
      "cell_type": "code",
      "source": [
        "# 상속관계를 확인\n",
        "issubclass(Student, Person)"
      ],
      "metadata": {
        "colab": {
          "base_uri": "https://localhost:8080/"
        },
        "id": "H0w3Ppbjejdm",
        "outputId": "153e0f89-16c5-45ec-f4ac-7d06681081ef"
      },
      "execution_count": null,
      "outputs": [
        {
          "output_type": "execute_result",
          "data": {
            "text/plain": [
              "True"
            ]
          },
          "metadata": {},
          "execution_count": 69
        }
      ]
    },
    {
      "cell_type": "code",
      "source": [
        "issubclass(Person, Student)"
      ],
      "metadata": {
        "colab": {
          "base_uri": "https://localhost:8080/"
        },
        "id": "E-UY9oEletQI",
        "outputId": "ab91c417-5e10-452b-b4d7-72f0f9525851"
      },
      "execution_count": null,
      "outputs": [
        {
          "output_type": "execute_result",
          "data": {
            "text/plain": [
              "False"
            ]
          },
          "metadata": {},
          "execution_count": 71
        }
      ]
    },
    {
      "cell_type": "code",
      "source": [
        "class Student(Person):\n",
        "  def __init__(self, name, phone, subject, studentID):\n",
        "    self.Name = name\n",
        "    self.Phone = phone\n",
        "    self.Subject = subject\n",
        "    self.StudentID = studentID\n",
        "\n",
        "    Person.__init__(self, name, phone)\n",
        "\n",
        "  def PrintStudentData(self):\n",
        "    print('Student(Name {0}, StudentID {1})'.format(self.Name, self.StudentID))\n",
        "\n",
        "  def PrintPersonData(self):\n",
        "    print('{0}님의 전공은 {1}입니다.'.format(self.Name, self.Subject))"
      ],
      "metadata": {
        "id": "RbhH0R0De0Cz"
      },
      "execution_count": null,
      "outputs": []
    },
    {
      "cell_type": "code",
      "source": [
        "s = Student(\"민아\", '010-2222-2222', 'Computer', '0001')\n",
        "s.PrintStudentData()"
      ],
      "metadata": {
        "colab": {
          "base_uri": "https://localhost:8080/"
        },
        "id": "0Eeon3Q7fA0z",
        "outputId": "6e63bc89-0337-4d69-ef1b-a96f009c7366"
      },
      "execution_count": null,
      "outputs": [
        {
          "output_type": "stream",
          "name": "stdout",
          "text": [
            "Student(Name 민아, StudentID 0001)\n"
          ]
        }
      ]
    },
    {
      "cell_type": "code",
      "source": [
        "# 다중 상속\n",
        "\n",
        "class Tiger:\n",
        "  def Jump(self):\n",
        "    print(\"호랑이 점프\")"
      ],
      "metadata": {
        "id": "0LbVRBglftaa"
      },
      "execution_count": null,
      "outputs": []
    },
    {
      "cell_type": "code",
      "source": [
        "class Lion:\n",
        "  def Bite(self):\n",
        "    print(\"사자의 물기\")"
      ],
      "metadata": {
        "id": "2SYE34UozUPp"
      },
      "execution_count": null,
      "outputs": []
    },
    {
      "cell_type": "code",
      "source": [
        "class Liger(Tiger, Lion):\n",
        "  def Play(self):\n",
        "    print(\"라이거의 놀기\")"
      ],
      "metadata": {
        "id": "fJ5oltQ8zkPg"
      },
      "execution_count": null,
      "outputs": []
    },
    {
      "cell_type": "code",
      "source": [
        "l = Liger()\n",
        "l.Jump()\n",
        "l.Bite()\n",
        "l.Play()"
      ],
      "metadata": {
        "colab": {
          "base_uri": "https://localhost:8080/"
        },
        "id": "bNgkBwB3zypQ",
        "outputId": "f035be8a-759b-483f-bfb3-bff538a86401"
      },
      "execution_count": null,
      "outputs": [
        {
          "output_type": "stream",
          "name": "stdout",
          "text": [
            "호랑이 점프\n",
            "사자의 물기\n",
            "라이거의 놀기\n"
          ]
        }
      ]
    },
    {
      "cell_type": "code",
      "source": [],
      "metadata": {
        "id": "7vygoEDF0EjN"
      },
      "execution_count": null,
      "outputs": []
    }
  ]
}