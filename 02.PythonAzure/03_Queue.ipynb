{
  "nbformat": 4,
  "nbformat_minor": 0,
  "metadata": {
    "colab": {
      "provenance": [],
      "authorship_tag": "ABX9TyOEy4TCZ61k9uUGFcR3C477",
      "include_colab_link": true
    },
    "kernelspec": {
      "name": "python3",
      "display_name": "Python 3"
    },
    "language_info": {
      "name": "python"
    }
  },
  "cells": [
    {
      "cell_type": "markdown",
      "metadata": {
        "id": "view-in-github",
        "colab_type": "text"
      },
      "source": [
        "<a href=\"https://colab.research.google.com/github/haaaram/MS-AIschool/blob/main/02.PythonAzure/03_Queue.ipynb\" target=\"_parent\"><img src=\"https://colab.research.google.com/assets/colab-badge.svg\" alt=\"Open In Colab\"/></a>"
      ]
    },
    {
      "cell_type": "code",
      "execution_count": null,
      "metadata": {
        "colab": {
          "base_uri": "https://localhost:8080/"
        },
        "id": "8E_GV2JxW-ed",
        "outputId": "d1f8174d-9db8-4ab2-b3b6-bc11810bf1a5"
      },
      "outputs": [
        {
          "output_type": "stream",
          "name": "stdout",
          "text": [
            "Looking in indexes: https://pypi.org/simple, https://us-python.pkg.dev/colab-wheels/public/simple/\n",
            "Collecting azure-storage-queue==2.1.0\n",
            "  Downloading azure_storage_queue-2.1.0-py2.py3-none-any.whl (24 kB)\n",
            "Collecting azure-storage-common~=2.1\n",
            "  Downloading azure_storage_common-2.1.0-py2.py3-none-any.whl (47 kB)\n",
            "\u001b[2K     \u001b[90m━━━━━━━━━━━━━━━━━━━━━━━━━━━━━━━━━━━━━━━━\u001b[0m \u001b[32m47.8/47.8 kB\u001b[0m \u001b[31m2.7 MB/s\u001b[0m eta \u001b[36m0:00:00\u001b[0m\n",
            "\u001b[?25hCollecting azure-common>=1.1.5\n",
            "  Downloading azure_common-1.1.28-py2.py3-none-any.whl (14 kB)\n",
            "Requirement already satisfied: requests in /usr/local/lib/python3.9/dist-packages (from azure-storage-common~=2.1->azure-storage-queue==2.1.0) (2.27.1)\n",
            "Requirement already satisfied: python-dateutil in /usr/local/lib/python3.9/dist-packages (from azure-storage-common~=2.1->azure-storage-queue==2.1.0) (2.8.2)\n",
            "Requirement already satisfied: cryptography in /usr/local/lib/python3.9/dist-packages (from azure-storage-common~=2.1->azure-storage-queue==2.1.0) (40.0.2)\n",
            "Requirement already satisfied: cffi>=1.12 in /usr/local/lib/python3.9/dist-packages (from cryptography->azure-storage-common~=2.1->azure-storage-queue==2.1.0) (1.15.1)\n",
            "Requirement already satisfied: six>=1.5 in /usr/local/lib/python3.9/dist-packages (from python-dateutil->azure-storage-common~=2.1->azure-storage-queue==2.1.0) (1.16.0)\n",
            "Requirement already satisfied: certifi>=2017.4.17 in /usr/local/lib/python3.9/dist-packages (from requests->azure-storage-common~=2.1->azure-storage-queue==2.1.0) (2022.12.7)\n",
            "Requirement already satisfied: charset-normalizer~=2.0.0 in /usr/local/lib/python3.9/dist-packages (from requests->azure-storage-common~=2.1->azure-storage-queue==2.1.0) (2.0.12)\n",
            "Requirement already satisfied: urllib3<1.27,>=1.21.1 in /usr/local/lib/python3.9/dist-packages (from requests->azure-storage-common~=2.1->azure-storage-queue==2.1.0) (1.26.15)\n",
            "Requirement already satisfied: idna<4,>=2.5 in /usr/local/lib/python3.9/dist-packages (from requests->azure-storage-common~=2.1->azure-storage-queue==2.1.0) (3.4)\n",
            "Requirement already satisfied: pycparser in /usr/local/lib/python3.9/dist-packages (from cffi>=1.12->cryptography->azure-storage-common~=2.1->azure-storage-queue==2.1.0) (2.21)\n",
            "Installing collected packages: azure-common, azure-storage-common, azure-storage-queue\n",
            "Successfully installed azure-common-1.1.28 azure-storage-common-2.1.0 azure-storage-queue-2.1.0\n"
          ]
        }
      ],
      "source": [
        "!pip install azure-storage-queue==2.1.0"
      ]
    },
    {
      "cell_type": "code",
      "source": [
        "from azure.storage.queue import QueueService, QueueMessageFormat"
      ],
      "metadata": {
        "id": "-cVa5OLlXGUJ"
      },
      "execution_count": null,
      "outputs": []
    },
    {
      "cell_type": "code",
      "source": [
        "# queueservices\n",
        "connect_str='DefaultEndpointsProtocol=https;AccountName=labuser13storage2;AccountKey=98aPLg2qDx4XM+1FEekeCMmoJ0tzXkTL5k8otaH+D1fGMmPFr3IVqs62ZcrgUXF8HBa6nxUFO4um+AStgxhhtw==;EndpointSuffix=core.windows.net'\n",
        "\n",
        "queue_name = 'queue-myqueue'\n",
        "queue_service = QueueService(connection_string=connect_str)\n",
        "\n",
        "queue_service.create_queue(queue_name)"
      ],
      "metadata": {
        "colab": {
          "base_uri": "https://localhost:8080/"
        },
        "id": "S7EBHfZ3Xop4",
        "outputId": "9c123872-515b-4bcc-b340-2c76e27b55ee"
      },
      "execution_count": null,
      "outputs": [
        {
          "output_type": "execute_result",
          "data": {
            "text/plain": [
              "True"
            ]
          },
          "metadata": {},
          "execution_count": 4
        }
      ]
    },
    {
      "cell_type": "code",
      "source": [
        "queue_service.encode_function = QueueMessageFormat.binary_base64encode\n",
        "queue_service.decode_function = QueueMessageFormat.binary_base64decode"
      ],
      "metadata": {
        "id": "zozIJJwNYzH7"
      },
      "execution_count": null,
      "outputs": []
    },
    {
      "cell_type": "code",
      "source": [
        "import base64\n",
        "message = 'Hello World2'\n",
        "print('Adding message: ' + message)\n",
        "\n",
        "message = base64.b64encode(message.encode('utf-8'))\n",
        "queue_service.put_message(queue_name, message)"
      ],
      "metadata": {
        "colab": {
          "base_uri": "https://localhost:8080/"
        },
        "id": "RcSnFL9AcesO",
        "outputId": "b635c9c7-149b-4318-a42c-05341fa70945"
      },
      "execution_count": null,
      "outputs": [
        {
          "output_type": "stream",
          "name": "stdout",
          "text": [
            "Adding message: Hello World2\n"
          ]
        },
        {
          "output_type": "execute_result",
          "data": {
            "text/plain": [
              "<azure.storage.queue.models.QueueMessage at 0x7f57b4690d90>"
            ]
          },
          "metadata": {},
          "execution_count": 14
        }
      ]
    },
    {
      "cell_type": "code",
      "source": [
        "messages = queue_service.peek_messages(queue_name)\n",
        "\n",
        "for peeked_message in messages :\n",
        "  message = base64.b64decode(peeked_message.content)\n",
        "  print('Peeked message: ' + message.decode('utf-8'))"
      ],
      "metadata": {
        "colab": {
          "base_uri": "https://localhost:8080/"
        },
        "id": "C7SrKlo9gLSY",
        "outputId": "7e166e5d-f4d0-4af2-ab3f-dcc16bdd7bfa"
      },
      "execution_count": null,
      "outputs": [
        {
          "output_type": "stream",
          "name": "stdout",
          "text": [
            "Peeked message: Hello World\n"
          ]
        }
      ]
    },
    {
      "cell_type": "code",
      "source": [
        "messages = queue_service.get_messages(queue_name)\n",
        "\n",
        "for msg in messages:\n",
        "  message = base64.b64decode(msg.content)\n",
        "  print('Got message: ' + message.decode('utf-8'))"
      ],
      "metadata": {
        "colab": {
          "base_uri": "https://localhost:8080/"
        },
        "id": "yA2efBDNh7GS",
        "outputId": "aaaaee37-6cc5-4529-e48b-42de25ac5bb1"
      },
      "execution_count": null,
      "outputs": [
        {
          "output_type": "stream",
          "name": "stdout",
          "text": [
            "Got message: Hello World2\n"
          ]
        }
      ]
    },
    {
      "cell_type": "code",
      "source": [
        "queue_service.delete_queue(queue_name)"
      ],
      "metadata": {
        "colab": {
          "base_uri": "https://localhost:8080/"
        },
        "id": "jp0TxvJVjNol",
        "outputId": "a4af8af5-d58a-4d4d-8760-cad0af99c571"
      },
      "execution_count": null,
      "outputs": [
        {
          "output_type": "execute_result",
          "data": {
            "text/plain": [
              "True"
            ]
          },
          "metadata": {},
          "execution_count": 16
        }
      ]
    },
    {
      "cell_type": "code",
      "source": [],
      "metadata": {
        "id": "JYO7mvN8k3zC"
      },
      "execution_count": null,
      "outputs": []
    }
  ]
}