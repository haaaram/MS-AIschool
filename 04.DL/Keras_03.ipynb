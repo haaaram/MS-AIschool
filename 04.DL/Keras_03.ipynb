{
  "nbformat": 4,
  "nbformat_minor": 0,
  "metadata": {
    "colab": {
      "provenance": [],
      "authorship_tag": "ABX9TyOObSGMq64C9BqZEuqqcSgl",
      "include_colab_link": true
    },
    "kernelspec": {
      "name": "python3",
      "display_name": "Python 3"
    },
    "language_info": {
      "name": "python"
    }
  },
  "cells": [
    {
      "cell_type": "markdown",
      "metadata": {
        "id": "view-in-github",
        "colab_type": "text"
      },
      "source": [
        "<a href=\"https://colab.research.google.com/github/haaaram/MS-AIschool/blob/main/04.DL/Keras_03.ipynb\" target=\"_parent\"><img src=\"https://colab.research.google.com/assets/colab-badge.svg\" alt=\"Open In Colab\"/></a>"
      ]
    },
    {
      "cell_type": "code",
      "execution_count": null,
      "metadata": {
        "id": "J_bWjKQtjql3",
        "colab": {
          "base_uri": "https://localhost:8080/"
        },
        "outputId": "669ef3f3-eba2-4ea1-cdc8-030bde48b68c"
      },
      "outputs": [
        {
          "output_type": "stream",
          "name": "stdout",
          "text": [
            "Downloading data from https://storage.googleapis.com/tensorflow/tf-keras-datasets/reuters.npz\n",
            "2110848/2110848 [==============================] - 1s 0us/step\n"
          ]
        }
      ],
      "source": [
        "from keras.datasets import reuters\n",
        "(train_data, train_labels), (test_data, test_labels) = reuters.load_data(num_words=10000)"
      ]
    },
    {
      "cell_type": "code",
      "source": [
        "print(train_data.shape)\n",
        "print(test_data.shape)"
      ],
      "metadata": {
        "colab": {
          "base_uri": "https://localhost:8080/"
        },
        "id": "JUiHVtwTl9Aj",
        "outputId": "33bd9623-a41f-4fb5-94cc-50e8ac7daf22"
      },
      "execution_count": null,
      "outputs": [
        {
          "output_type": "stream",
          "name": "stdout",
          "text": [
            "(8982,)\n",
            "(2246,)\n"
          ]
        }
      ]
    },
    {
      "cell_type": "code",
      "source": [
        "import numpy as np\n",
        "\n",
        "def vectorize_sequences(sequences, dimension = 10000):\n",
        "  results = np.zeros((len(sequences), dimension))\n",
        "\n",
        "  for i, sequence in enumerate(sequences):\n",
        "    results[i, sequence] = 1\n",
        "\n",
        "  return results"
      ],
      "metadata": {
        "id": "ndd-NGJUm4XV"
      },
      "execution_count": null,
      "outputs": []
    },
    {
      "cell_type": "code",
      "source": [
        "# 훈련 데이터와 테스트 데이터의 벡터 변환\n",
        "x_train = vectorize_sequences(train_data)\n",
        "x_test = vectorize_sequences(test_data)"
      ],
      "metadata": {
        "id": "FoJUPeu8oY7L"
      },
      "execution_count": null,
      "outputs": []
    },
    {
      "cell_type": "code",
      "source": [
        "# 라벨 데이터를 카테고리 데이터로 전환\n",
        "from keras.utils.np_utils import to_categorical\n",
        "\n",
        "one_hot_train_labels = to_categorical(train_labels)\n",
        "one_hot_test_labels = to_categorical(test_labels)"
      ],
      "metadata": {
        "id": "gq9tMWtKpLRr"
      },
      "execution_count": null,
      "outputs": []
    },
    {
      "cell_type": "code",
      "source": [
        "# 모델 구성\n",
        "from keras import models\n",
        "from keras import layers\n",
        "\n",
        "model = models.Sequential()\n",
        "model.add(layers.Dense(64, activation='relu', input_shape=(10000,)))\n",
        "model.add(layers.Dense(64, activation='relu'))\n",
        "model.add(layers.Dense(46, activation='softmax'))"
      ],
      "metadata": {
        "id": "fmStnIK1pkhU"
      },
      "execution_count": null,
      "outputs": []
    },
    {
      "cell_type": "code",
      "source": [
        "model.compile(optimizer='rmsprop',\n",
        "             loss='categorical_crossentropy',\n",
        "             metrics=['accuracy'])"
      ],
      "metadata": {
        "id": "Upa9-IJECczJ"
      },
      "execution_count": null,
      "outputs": []
    },
    {
      "cell_type": "code",
      "source": [
        "x_val = x_train[:1000]\n",
        "partial_x_train = x_train[1000:]\n",
        "y_val = one_hot_train_labels[:1000]\n",
        "partial_y_train = one_hot_train_labels[1000:]"
      ],
      "metadata": {
        "id": "Cc4vHJ0JCzVO"
      },
      "execution_count": null,
      "outputs": []
    },
    {
      "cell_type": "code",
      "source": [
        "history = model.fit(partial_x_train,\n",
        "                    partial_y_train,\n",
        "                    epochs=20,\n",
        "                    batch_size=512,\n",
        "                    validation_data=(x_val, y_val))"
      ],
      "metadata": {
        "colab": {
          "base_uri": "https://localhost:8080/"
        },
        "id": "GGPliy1HEKXf",
        "outputId": "e78ee756-5459-4515-e02d-14121e66c073"
      },
      "execution_count": null,
      "outputs": [
        {
          "output_type": "stream",
          "name": "stdout",
          "text": [
            "Epoch 1/20\n",
            "16/16 [==============================] - 2s 81ms/step - loss: 2.7608 - accuracy: 0.4964 - val_loss: 1.8764 - val_accuracy: 0.6300\n",
            "Epoch 2/20\n",
            "16/16 [==============================] - 1s 61ms/step - loss: 1.5859 - accuracy: 0.6802 - val_loss: 1.4015 - val_accuracy: 0.6910\n",
            "Epoch 3/20\n",
            "16/16 [==============================] - 2s 116ms/step - loss: 1.2077 - accuracy: 0.7369 - val_loss: 1.2009 - val_accuracy: 0.7430\n",
            "Epoch 4/20\n",
            "16/16 [==============================] - 1s 84ms/step - loss: 0.9780 - accuracy: 0.7913 - val_loss: 1.0858 - val_accuracy: 0.7770\n",
            "Epoch 5/20\n",
            "16/16 [==============================] - 1s 56ms/step - loss: 0.8074 - accuracy: 0.8327 - val_loss: 1.0022 - val_accuracy: 0.7950\n",
            "Epoch 6/20\n",
            "16/16 [==============================] - 1s 55ms/step - loss: 0.6711 - accuracy: 0.8582 - val_loss: 0.9576 - val_accuracy: 0.8010\n",
            "Epoch 7/20\n",
            "16/16 [==============================] - 1s 53ms/step - loss: 0.5568 - accuracy: 0.8842 - val_loss: 0.9120 - val_accuracy: 0.8080\n",
            "Epoch 8/20\n",
            "16/16 [==============================] - 1s 55ms/step - loss: 0.4692 - accuracy: 0.9030 - val_loss: 0.8842 - val_accuracy: 0.8160\n",
            "Epoch 9/20\n",
            "16/16 [==============================] - 1s 55ms/step - loss: 0.3944 - accuracy: 0.9187 - val_loss: 0.8744 - val_accuracy: 0.8110\n",
            "Epoch 10/20\n",
            "16/16 [==============================] - 1s 55ms/step - loss: 0.3394 - accuracy: 0.9276 - val_loss: 0.9030 - val_accuracy: 0.8060\n",
            "Epoch 11/20\n",
            "16/16 [==============================] - 1s 57ms/step - loss: 0.2951 - accuracy: 0.9369 - val_loss: 0.8676 - val_accuracy: 0.8210\n",
            "Epoch 12/20\n",
            "16/16 [==============================] - 1s 54ms/step - loss: 0.2527 - accuracy: 0.9431 - val_loss: 0.8569 - val_accuracy: 0.8250\n",
            "Epoch 13/20\n",
            "16/16 [==============================] - 1s 55ms/step - loss: 0.2289 - accuracy: 0.9465 - val_loss: 0.8875 - val_accuracy: 0.8220\n",
            "Epoch 14/20\n",
            "16/16 [==============================] - 1s 53ms/step - loss: 0.2011 - accuracy: 0.9513 - val_loss: 0.8940 - val_accuracy: 0.8170\n",
            "Epoch 15/20\n",
            "16/16 [==============================] - 1s 54ms/step - loss: 0.1870 - accuracy: 0.9510 - val_loss: 0.8993 - val_accuracy: 0.8220\n",
            "Epoch 16/20\n",
            "16/16 [==============================] - 1s 87ms/step - loss: 0.1702 - accuracy: 0.9540 - val_loss: 0.9208 - val_accuracy: 0.8200\n",
            "Epoch 17/20\n",
            "16/16 [==============================] - 2s 100ms/step - loss: 0.1579 - accuracy: 0.9558 - val_loss: 0.9055 - val_accuracy: 0.8200\n",
            "Epoch 18/20\n",
            "16/16 [==============================] - 1s 71ms/step - loss: 0.1498 - accuracy: 0.9573 - val_loss: 0.9493 - val_accuracy: 0.8150\n",
            "Epoch 19/20\n",
            "16/16 [==============================] - 1s 61ms/step - loss: 0.1422 - accuracy: 0.9562 - val_loss: 1.0073 - val_accuracy: 0.8080\n",
            "Epoch 20/20\n",
            "16/16 [==============================] - 1s 61ms/step - loss: 0.1381 - accuracy: 0.9562 - val_loss: 0.9789 - val_accuracy: 0.8090\n"
          ]
        }
      ]
    },
    {
      "cell_type": "code",
      "source": [
        "import matplotlib.pyplot as plt"
      ],
      "metadata": {
        "id": "nZLQHCgmEnux"
      },
      "execution_count": null,
      "outputs": []
    },
    {
      "cell_type": "code",
      "source": [
        "loss = history.history['loss']\n",
        "val_loss = history.history['val_loss']\n",
        "acc = history.history['accuracy']\n",
        "val_acc = history.history['val_accuracy']"
      ],
      "metadata": {
        "id": "p1zTzlNCF2jn"
      },
      "execution_count": null,
      "outputs": []
    },
    {
      "cell_type": "code",
      "source": [
        "epochs = range(1, len(loss)+1)\n",
        "\n",
        "plt.plot(epochs, loss, 'bo', label='Training loss')\n",
        "plt.plot(epochs, val_loss, 'r-', label='Validation loss')\n",
        "plt.title('Training and validation loss')\n",
        "plt.xlabel('Epochs')\n",
        "plt.ylabel('Loss')\n",
        "plt.legend()"
      ],
      "metadata": {
        "colab": {
          "base_uri": "https://localhost:8080/",
          "height": 490
        },
        "id": "qTw4YllvGHb7",
        "outputId": "335e6470-9fb8-4185-e671-457b8aadf976"
      },
      "execution_count": null,
      "outputs": [
        {
          "output_type": "execute_result",
          "data": {
            "text/plain": [
              "<matplotlib.legend.Legend at 0x7f29f994feb0>"
            ]
          },
          "metadata": {},
          "execution_count": 17
        },
        {
          "output_type": "display_data",
          "data": {
            "text/plain": [
              "<Figure size 640x480 with 1 Axes>"
            ],
            "image/png": "[encoded data removed]"
          },
          "metadata": {}
        }
      ]
    },
    {
      "cell_type": "code",
      "source": [
        "plt.plot(epochs, acc, 'bo', label='Training accuracy')\n",
        "plt.plot(epochs, val_acc, 'r-', label='Validation accuracy')\n",
        "plt.title('Training and validation accuracy')\n",
        "plt.xlabel('Epochs')\n",
        "plt.ylabel('Accuracy')\n",
        "plt.legend()"
      ],
      "metadata": {
        "colab": {
          "base_uri": "https://localhost:8080/",
          "height": 490
        },
        "id": "PvcJk51LHBb8",
        "outputId": "9c976b27-2181-414f-c0a3-3d6817eef319"
      },
      "execution_count": null,
      "outputs": [
        {
          "output_type": "execute_result",
          "data": {
            "text/plain": [
              "<matplotlib.legend.Legend at 0x7f29f966a050>"
            ]
          },
          "metadata": {},
          "execution_count": 18
        },
        {
          "output_type": "display_data",
          "data": {
            "text/plain": [
              "<Figure size 640x480 with 1 Axes>"
            ],
            "image/png": "[encoded data removed]"
          },
          "metadata": {}
        }
      ]
    },
    {
      "cell_type": "code",
      "source": [
        "# 검증된 결과로 다시 학습\n",
        "model = models.Sequential()\n",
        "model.add(layers.Dense(64, activation='relu', input_shape=(10000,)))\n",
        "model.add(layers.Dense(64, activation='relu'))\n",
        "model.add(layers.Dense(46, activation='softmax'))\n",
        "\n",
        "model.compile(optimizer='rmsprop',\n",
        "             loss='categorical_crossentropy',\n",
        "             metrics=['accuracy'])\n",
        "\n",
        "history = model.fit(partial_x_train,\n",
        "                    partial_y_train,\n",
        "                    epochs=10,\n",
        "                    batch_size=512,\n",
        "                    validation_data=(x_val, y_val))\n",
        "\n",
        "eval_result = model.evaluate(x_test, one_hot_test_labels)\n",
        "print(eval_result)"
      ],
      "metadata": {
        "colab": {
          "base_uri": "https://localhost:8080/"
        },
        "id": "te9_8kqvIGcN",
        "outputId": "dfd9a3f8-49d5-47b9-c598-f1f35cdc640b"
      },
      "execution_count": null,
      "outputs": [
        {
          "output_type": "stream",
          "name": "stdout",
          "text": [
            "Epoch 1/10\n",
            "16/16 [==============================] - 2s 77ms/step - loss: 2.8990 - accuracy: 0.4723 - val_loss: 1.9938 - val_accuracy: 0.6180\n",
            "Epoch 2/10\n",
            "16/16 [==============================] - 1s 56ms/step - loss: 1.6252 - accuracy: 0.6755 - val_loss: 1.4044 - val_accuracy: 0.6920\n",
            "Epoch 3/10\n",
            "16/16 [==============================] - 1s 56ms/step - loss: 1.1983 - accuracy: 0.7405 - val_loss: 1.2102 - val_accuracy: 0.7310\n",
            "Epoch 4/10\n",
            "16/16 [==============================] - 1s 81ms/step - loss: 0.9717 - accuracy: 0.7868 - val_loss: 1.0759 - val_accuracy: 0.7630\n",
            "Epoch 5/10\n",
            "16/16 [==============================] - 2s 97ms/step - loss: 0.8031 - accuracy: 0.8262 - val_loss: 1.0117 - val_accuracy: 0.7800\n",
            "Epoch 6/10\n",
            "16/16 [==============================] - 1s 69ms/step - loss: 0.6741 - accuracy: 0.8549 - val_loss: 0.9628 - val_accuracy: 0.7950\n",
            "Epoch 7/10\n",
            "16/16 [==============================] - 1s 55ms/step - loss: 0.5596 - accuracy: 0.8797 - val_loss: 0.9057 - val_accuracy: 0.8050\n",
            "Epoch 8/10\n",
            "16/16 [==============================] - 1s 57ms/step - loss: 0.4694 - accuracy: 0.9024 - val_loss: 0.9050 - val_accuracy: 0.8050\n",
            "Epoch 9/10\n",
            "16/16 [==============================] - 1s 54ms/step - loss: 0.3930 - accuracy: 0.9171 - val_loss: 0.8688 - val_accuracy: 0.8180\n",
            "Epoch 10/10\n",
            "16/16 [==============================] - 1s 53ms/step - loss: 0.3362 - accuracy: 0.9276 - val_loss: 0.8636 - val_accuracy: 0.8140\n",
            "71/71 [==============================] - 0s 3ms/step - loss: 0.9516 - accuracy: 0.7890\n",
            "[0.9515561461448669, 0.7889581322669983]\n"
          ]
        }
      ]
    },
    {
      "cell_type": "code",
      "source": [],
      "metadata": {
        "id": "_UCPnsRvKd1D"
      },
      "execution_count": null,
      "outputs": []
    }
  ]
}